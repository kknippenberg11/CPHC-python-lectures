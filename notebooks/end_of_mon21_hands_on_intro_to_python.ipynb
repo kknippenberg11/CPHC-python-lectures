{
 "cells": [
  {
   "cell_type": "markdown",
   "metadata": {
    "slideshow": {
     "slide_type": "slide"
    },
    "tags": []
   },
   "source": [
    "# Hands-on Introduction to Python\n",
    "Presented by Brett Milash, brett.milash@utah.edu"
   ]
  },
  {
   "cell_type": "code",
   "execution_count": null,
   "metadata": {
    "scrolled": true
   },
   "outputs": [],
   "source": [
    "!git clone https://github.com/CHPC-UofU/python-lectures.git"
   ]
  },
  {
   "cell_type": "code",
   "execution_count": 3,
   "metadata": {
    "scrolled": true
   },
   "outputs": [
    {
     "name": "stdout",
     "output_type": "stream",
     "text": [
      "We will use python version 3.10.14 | packaged by conda-forge | (main, Mar 20 2024, 12:45:18) [GCC 12.3.0]\n"
     ]
    }
   ],
   "source": [
    "def hands_on_intro_to_python():\n",
    "    \"\"\"\n",
    "    \"def\" makes a brand-new function in Python. This is a hands-on introduction to python.\n",
    "    Your instuctors are Brett Milash and Robben Migacz of the CHPC.\n",
    "    You can run this code cell by typing Shift+Return \n",
    "    \"\"\"\n",
    "    import sys\n",
    "    print(\"We will use python version\", sys.version)\n",
    "    \n",
    "hands_on_intro_to_python()"
   ]
  },
  {
   "cell_type": "code",
   "execution_count": 4,
   "metadata": {
    "scrolled": true
   },
   "outputs": [
    {
     "name": "stdout",
     "output_type": "stream",
     "text": [
      "Help on function hands_on_intro_to_python in module __main__:\n",
      "\n",
      "hands_on_intro_to_python()\n",
      "    \"def\" makes a brand-new function in Python. This is a hands-on introduction to python.\n",
      "    Your instuctors are Brett Milash and Robben Migacz of the CHPC.\n",
      "    You can run this code cell by typing Shift+Return\n",
      "\n"
     ]
    }
   ],
   "source": [
    "help(hands_on_intro_to_python)"
   ]
  },
  {
   "cell_type": "markdown",
   "metadata": {
    "slideshow": {
     "slide_type": "slide"
    },
    "tags": []
   },
   "source": [
    "## Characteristics of the language\n",
    "* Interpreted #meaning, in contrast to other languages that are COMPILED (C++, ETC). In an interpreted language, commands are executed IMMEDIATELY by the command interpreter.\n",
    "* Object-oriented\n",
    "  * Data and functions (called \"methods\") are packaged together into OBJECTS. \n",
    "  * An object's methods are used to manipulate that object's data. Can track the data and right there is the code manipulating it. \n",
    "  * Objects are organized into \"classes\", which define the objects' methods & data\n",
    "  * \"Inheritance\" makes it easy to create new classes from existing ones\n",
    "  * Great way to organize your code (and your thinking!)\n",
    "* Modular\n",
    "  * A lot of python's functionality is found in modules\n",
    "  * We need to bring those modules in (import) to use that functionality\n",
    "  * Python comes installed with many modules, many many more can be installed later (Similar to \"packages\" in R)\n",
    "* Leading white space (indentation) is significant\n",
    "  * Level of indentation defines \"blocks\" of code\n",
    "  * Either tabs OR spaces - choose one or the other!\n",
    "  * Some editors take care of this for you"
   ]
  },
  {
   "cell_type": "markdown",
   "metadata": {
    "slideshow": {
     "slide_type": "slide"
    }
   },
   "source": [
    "## Running python code\n",
    "* Interactively (typing python statements at the interpreter). good for testing\n",
    "* In a script\n",
    "    * Run the interpreter with your script as an argument: \"python scriptname.py ...\"\n",
    "    * As an executable script: \"#!/usr/bin/env python\"\n",
    "* In a cell in a notebook in JupyterLab (when you type Shift+Return or Shift+Enter). This is what we're doing for this class."
   ]
  },
  {
   "cell_type": "code",
   "execution_count": 5,
   "metadata": {},
   "outputs": [
    {
     "name": "stdout",
     "output_type": "stream",
     "text": [
      "The area of a circle with radius 2.0 is 12.566370614359172 .\n"
     ]
    },
    {
     "data": {
      "text/plain": [
       "7"
      ]
     },
     "execution_count": 5,
     "metadata": {},
     "output_type": "execute_result"
    }
   ],
   "source": [
    "# This is a comment - it doesn't get executed by python.\n",
    "import math\n",
    "radius = 2.0 #unlike in other languages, we don't have to declare a variable first, we can juyst start using it the first moment we type it\n",
    "area = math.pi * radius * radius\n",
    "print(\"The area of a circle with radius\", radius,\"is\", area, \".\")\n",
    "# Try changing the radius and re-running the code. \n",
    "#note that if you don't change your notebook for a bit, the kernel will go to sleep (upper RH corner, \"Python 3 (ipykernel). \n",
    "3+4"
   ]
  },
  {
   "cell_type": "markdown",
   "metadata": {},
   "source": [
    "## Jupyter Lab Basics (This is a Markdown Cell, see above in the toolbar)\n",
    "\n",
    "Python Jupyter Notebook files (.ipynb files) have a series of cells, one of which is active, and that cell has a blue bar on the left.\n",
    "\n",
    "Jupyter Notebooks have a modal user interface: depending on the mode the keyboard operates in 2 different ways:\n",
    "\n",
    "**Command mode:** manipulate cells using menus, toolbar, or keyboard shortcuts:\n",
    "  * arrow keys (or \"j\", \"k\") to move up and down.\n",
    "  * \"s\" saves the notebook\n",
    "  * \"a\" creates a cell above, \"b\" below\n",
    "  * \"c\" copies a cell, \"x\" cuts it, \"v\" pastes it\n",
    "  * \"dd\" deletes a cell\n",
    "  * \"z\" undeletes it\n",
    "  * change cell type to markdown (\"m\"), code (\"c\"), or raw (\"r\")\n",
    "  \n",
    "**Edit mode:** change cell contents. Double-click to enter edit mode, Escape or Shift+Return to exit.\n",
    "  * in code cells, the cell acts as a python syntax-aware editor\n",
    "  * in markdown cells, the cell is a markdown-aware editor"
   ]
  },
  {
   "cell_type": "markdown",
   "metadata": {
    "slideshow": {
     "slide_type": "slide"
    },
    "tags": []
   },
   "source": [
    "# Big Concepts in Python\n",
    "* Variables - a variable points to a data object\n",
    "  * a simple object like a number or a character string\n",
    "  * a complex object like a list of values or a dictionary of values\n",
    "* Statements (and operators) - these do stuff, they are the verbs of the language (eg, <>=, print, def inherent to python)\n",
    "* Functions - these are reusable blocks of code (we create these)\n",
    "* Classes - these define all the different types of objects: their data, methods/functions, etc. Lots of classes are provided by python or can be imported, and we can also make our own.\n",
    "* Modules - entire files of python code, containing variables, functions, and classes"
   ]
  },
  {
   "cell_type": "markdown",
   "metadata": {
    "slideshow": {
     "slide_type": "slide"
    }
   },
   "source": [
    "# Variables\n",
    "* Simple values\n",
    "  * Numbers (integers, real numbers, complex numbers)\n",
    "  * Character strings\n",
    "  * Boolean values (True, False)\n",
    "  * None (the empty/unknown value)\n",
    "* Compound values\n",
    "  * Lists\n",
    "  * Dictionaries\n",
    "  * Sets\n",
    "  * Tuples\n",
    "  * Complex or custom objects that we design"
   ]
  },
  {
   "cell_type": "markdown",
   "metadata": {
    "slideshow": {
     "slide_type": "slide"
    }
   },
   "source": [
    "## Create some variables"
   ]
  },
  {
   "cell_type": "code",
   "execution_count": 1,
   "metadata": {
    "scrolled": true
   },
   "outputs": [
    {
     "name": "stdout",
     "output_type": "stream",
     "text": [
      "The value of x is 1 and its type is <class 'int'>\n",
      "The value of y is  Here is a character string  and its type is <class 'str'>\n",
      "The type of z is <class 'bool'>\n"
     ]
    }
   ],
   "source": [
    "# Lets define some variables using the assignment operator \"=\", print their values and types.\n",
    "x=1\n",
    "y=\"Here is a character string\"\n",
    "\n",
    "# What are the values assigned to x and y, what are the types of data assigned to x and y?\n",
    "print(\"The value of x is\", x, \"and its type is\", type(x))\n",
    "print(\"The value of y is \", y, \" and its type is\", type(y))\n",
    "\n",
    "# Assign the value of True or False to a variable. What data type is assigned to the variable?\n",
    "z=True\n",
    "print(\"The type of z is\", type(z))"
   ]
  },
  {
   "cell_type": "code",
   "execution_count": 20,
   "metadata": {
    "scrolled": true
   },
   "outputs": [
    {
     "name": "stdout",
     "output_type": "stream",
     "text": [
      "The type of data assigned to x is <class 'str'>\n"
     ]
    }
   ],
   "source": [
    "# Now assign the value \"hello world\" to x. What is the type of x now? You can change a variable like THAT .. Python is a dynamically typed language. Type is associated with the data itself, not the variable. \n",
    "x=\"hello world\"\n",
    "print(\"The type of data assigned to x is\", type(x))"
   ]
  },
  {
   "cell_type": "markdown",
   "metadata": {},
   "source": [
    "Notice how the type of value assigned to x has changed - python is a **dynamically typed** language."
   ]
  },
  {
   "cell_type": "markdown",
   "metadata": {
    "slideshow": {
     "slide_type": "slide"
    }
   },
   "source": [
    "## Now its your turn\n",
    "In the cell below create the variables \"name\" and \"age\", assign your name to \"name\", and your age to \"age\". Then print them using the print() function to produce the output, \"My name is _______ and I am _______ years old.\""
   ]
  },
  {
   "cell_type": "code",
   "execution_count": 7,
   "metadata": {},
   "outputs": [
    {
     "name": "stdout",
     "output_type": "stream",
     "text": [
      "My name is Kristin and I am 49\n"
     ]
    }
   ],
   "source": [
    "name = \"Kristin\"\n",
    "age = 49\n",
    "print(\"My name is\", name, \"and I am\", age)"
   ]
  },
  {
   "cell_type": "markdown",
   "metadata": {
    "slideshow": {
     "slide_type": "slide"
    },
    "tags": []
   },
   "source": [
    "# Operators\n",
    "\n",
    "Python has all the operators you typically find in a programming language.\n",
    "\n",
    "* Assignment operator for variables: =\n",
    "* Arithmetic operators: +, -, \\*, /, +=, -=, \\*=, /=, \\*\\* (exponentiation), % (modulo [remainder after interger division]), // (floor division [rounds down following division])\n",
    "* Comparison operators: ==, !=, <, >, <=, >=\n",
    "* Logical operators: and, or, not (changes boolean values True/False)\n",
    "  * the \"and\" and \"or\" operators use [short-circuit evaluation](https://en.wikipedia.org/wiki/Short-circuit_evaluation)\n",
    "* Bitwise operators: << (left shift), >> (right shift), | (bitwise or), & (bitwise and), ^ (complement) (not very common in Python, but common in C++)\n",
    "* Identity / membership operators: is, in\n",
    "* Assignment expressions: :=  (New in python 3.8. See https://realpython.com/python-walrus-operator/)\n",
    "* Operator precedence: parentheses ( and ) (In parenthesis first; outside parenthesis second. See https://docs.python.org/3/reference/expressions.html#operator-precedence)\n",
    "\n",
    "More on operators here: https://docs.python.org/3/library/stdtypes.html#"
   ]
  },
  {
   "cell_type": "markdown",
   "metadata": {
    "slideshow": {
     "slide_type": "slide"
    }
   },
   "source": [
    "# Strings\n",
    "\n",
    "* A string is a sequence of characters enclosed in single quotes or double quotes. The quotes themselves are not part of the string.\n",
    "* \"Short\" strings fit onto one line, like \"here is a string\".\n",
    "* \"Long\" strings don't fit on one line, and are enclosed in \"triple\" quotes."
   ]
  },
  {
   "cell_type": "code",
   "execution_count": 8,
   "metadata": {},
   "outputs": [
    {
     "name": "stdout",
     "output_type": "stream",
     "text": [
      "Here is a short string.Here's another short string. Note it contains a single quote.\n",
      "This is a long string.\n",
      "It's content includes multiple lines of text.\n"
     ]
    }
   ],
   "source": [
    "s1 = 'Here is a short string.'\n",
    "s2 = \"Here's another short string. Note it contains a single quote.\"\n",
    "s3 = \"\"\"This is a long string.\n",
    "It's content includes multiple lines of text.\"\"\"\n",
    "print(s1 + s2)\n",
    "print(s3)"
   ]
  },
  {
   "cell_type": "markdown",
   "metadata": {
    "slideshow": {
     "slide_type": "slide"
    }
   },
   "source": [
    "## Strings have some useful operators and methods."
   ]
  },
  {
   "cell_type": "code",
   "execution_count": 12,
   "metadata": {},
   "outputs": [
    {
     "name": "stdout",
     "output_type": "stream",
     "text": [
      "s1: abc-abc-abc-xyz\n",
      "s1 split by - characters: ['abc', 'abc', 'abc', 'xyz']\n",
      "s1 converted to upper case: ABC-ABC-ABC-XYZ\n",
      "s1 is 15 characters long.\n",
      "s1 contains 3 a's\n"
     ]
    }
   ],
   "source": [
    "# You can multiply and add them:\n",
    "s1=\"abc-\" * 3 + \"xyz\"\n",
    "print(\"s1:\", s1)\n",
    "# You can split them by some delimiter character using the string's split method:\n",
    "print(\"s1 split by - characters:\", s1.split(\"-\"))\n",
    "print(\"s1 converted to upper case:\", s1.upper())\n",
    "# Strings have a length:\n",
    "print(\"s1 is\", len(s1), \"characters long.\")\n",
    "print(\"s1 contains\", s1.count('a'), \"a's\")"
   ]
  },
  {
   "cell_type": "code",
   "execution_count": 13,
   "metadata": {},
   "outputs": [
    {
     "name": "stdout",
     "output_type": "stream",
     "text": [
      "Help on class str in module builtins:\n",
      "\n",
      "class str(object)\n",
      " |  str(object='') -> str\n",
      " |  str(bytes_or_buffer[, encoding[, errors]]) -> str\n",
      " |  \n",
      " |  Create a new string object from the given object. If encoding or\n",
      " |  errors is specified, then the object must expose a data buffer\n",
      " |  that will be decoded using the given encoding and error handler.\n",
      " |  Otherwise, returns the result of object.__str__() (if defined)\n",
      " |  or repr(object).\n",
      " |  encoding defaults to sys.getdefaultencoding().\n",
      " |  errors defaults to 'strict'.\n",
      " |  \n",
      " |  Methods defined here:\n",
      " |  \n",
      " |  __add__(self, value, /)\n",
      " |      Return self+value.\n",
      " |  \n",
      " |  __contains__(self, key, /)\n",
      " |      Return key in self.\n",
      " |  \n",
      " |  __eq__(self, value, /)\n",
      " |      Return self==value.\n",
      " |  \n",
      " |  __format__(self, format_spec, /)\n",
      " |      Return a formatted version of the string as described by format_spec.\n",
      " |  \n",
      " |  __ge__(self, value, /)\n",
      " |      Return self>=value.\n",
      " |  \n",
      " |  __getattribute__(self, name, /)\n",
      " |      Return getattr(self, name).\n",
      " |  \n",
      " |  __getitem__(self, key, /)\n",
      " |      Return self[key].\n",
      " |  \n",
      " |  __getnewargs__(...)\n",
      " |  \n",
      " |  __gt__(self, value, /)\n",
      " |      Return self>value.\n",
      " |  \n",
      " |  __hash__(self, /)\n",
      " |      Return hash(self).\n",
      " |  \n",
      " |  __iter__(self, /)\n",
      " |      Implement iter(self).\n",
      " |  \n",
      " |  __le__(self, value, /)\n",
      " |      Return self<=value.\n",
      " |  \n",
      " |  __len__(self, /)\n",
      " |      Return len(self).\n",
      " |  \n",
      " |  __lt__(self, value, /)\n",
      " |      Return self<value.\n",
      " |  \n",
      " |  __mod__(self, value, /)\n",
      " |      Return self%value.\n",
      " |  \n",
      " |  __mul__(self, value, /)\n",
      " |      Return self*value.\n",
      " |  \n",
      " |  __ne__(self, value, /)\n",
      " |      Return self!=value.\n",
      " |  \n",
      " |  __repr__(self, /)\n",
      " |      Return repr(self).\n",
      " |  \n",
      " |  __rmod__(self, value, /)\n",
      " |      Return value%self.\n",
      " |  \n",
      " |  __rmul__(self, value, /)\n",
      " |      Return value*self.\n",
      " |  \n",
      " |  __sizeof__(self, /)\n",
      " |      Return the size of the string in memory, in bytes.\n",
      " |  \n",
      " |  __str__(self, /)\n",
      " |      Return str(self).\n",
      " |  \n",
      " |  capitalize(self, /)\n",
      " |      Return a capitalized version of the string.\n",
      " |      \n",
      " |      More specifically, make the first character have upper case and the rest lower\n",
      " |      case.\n",
      " |  \n",
      " |  casefold(self, /)\n",
      " |      Return a version of the string suitable for caseless comparisons.\n",
      " |  \n",
      " |  center(self, width, fillchar=' ', /)\n",
      " |      Return a centered string of length width.\n",
      " |      \n",
      " |      Padding is done using the specified fill character (default is a space).\n",
      " |  \n",
      " |  count(...)\n",
      " |      S.count(sub[, start[, end]]) -> int\n",
      " |      \n",
      " |      Return the number of non-overlapping occurrences of substring sub in\n",
      " |      string S[start:end].  Optional arguments start and end are\n",
      " |      interpreted as in slice notation.\n",
      " |  \n",
      " |  encode(self, /, encoding='utf-8', errors='strict')\n",
      " |      Encode the string using the codec registered for encoding.\n",
      " |      \n",
      " |      encoding\n",
      " |        The encoding in which to encode the string.\n",
      " |      errors\n",
      " |        The error handling scheme to use for encoding errors.\n",
      " |        The default is 'strict' meaning that encoding errors raise a\n",
      " |        UnicodeEncodeError.  Other possible values are 'ignore', 'replace' and\n",
      " |        'xmlcharrefreplace' as well as any other name registered with\n",
      " |        codecs.register_error that can handle UnicodeEncodeErrors.\n",
      " |  \n",
      " |  endswith(...)\n",
      " |      S.endswith(suffix[, start[, end]]) -> bool\n",
      " |      \n",
      " |      Return True if S ends with the specified suffix, False otherwise.\n",
      " |      With optional start, test S beginning at that position.\n",
      " |      With optional end, stop comparing S at that position.\n",
      " |      suffix can also be a tuple of strings to try.\n",
      " |  \n",
      " |  expandtabs(self, /, tabsize=8)\n",
      " |      Return a copy where all tab characters are expanded using spaces.\n",
      " |      \n",
      " |      If tabsize is not given, a tab size of 8 characters is assumed.\n",
      " |  \n",
      " |  find(...)\n",
      " |      S.find(sub[, start[, end]]) -> int\n",
      " |      \n",
      " |      Return the lowest index in S where substring sub is found,\n",
      " |      such that sub is contained within S[start:end].  Optional\n",
      " |      arguments start and end are interpreted as in slice notation.\n",
      " |      \n",
      " |      Return -1 on failure.\n",
      " |  \n",
      " |  format(...)\n",
      " |      S.format(*args, **kwargs) -> str\n",
      " |      \n",
      " |      Return a formatted version of S, using substitutions from args and kwargs.\n",
      " |      The substitutions are identified by braces ('{' and '}').\n",
      " |  \n",
      " |  format_map(...)\n",
      " |      S.format_map(mapping) -> str\n",
      " |      \n",
      " |      Return a formatted version of S, using substitutions from mapping.\n",
      " |      The substitutions are identified by braces ('{' and '}').\n",
      " |  \n",
      " |  index(...)\n",
      " |      S.index(sub[, start[, end]]) -> int\n",
      " |      \n",
      " |      Return the lowest index in S where substring sub is found,\n",
      " |      such that sub is contained within S[start:end].  Optional\n",
      " |      arguments start and end are interpreted as in slice notation.\n",
      " |      \n",
      " |      Raises ValueError when the substring is not found.\n",
      " |  \n",
      " |  isalnum(self, /)\n",
      " |      Return True if the string is an alpha-numeric string, False otherwise.\n",
      " |      \n",
      " |      A string is alpha-numeric if all characters in the string are alpha-numeric and\n",
      " |      there is at least one character in the string.\n",
      " |  \n",
      " |  isalpha(self, /)\n",
      " |      Return True if the string is an alphabetic string, False otherwise.\n",
      " |      \n",
      " |      A string is alphabetic if all characters in the string are alphabetic and there\n",
      " |      is at least one character in the string.\n",
      " |  \n",
      " |  isascii(self, /)\n",
      " |      Return True if all characters in the string are ASCII, False otherwise.\n",
      " |      \n",
      " |      ASCII characters have code points in the range U+0000-U+007F.\n",
      " |      Empty string is ASCII too.\n",
      " |  \n",
      " |  isdecimal(self, /)\n",
      " |      Return True if the string is a decimal string, False otherwise.\n",
      " |      \n",
      " |      A string is a decimal string if all characters in the string are decimal and\n",
      " |      there is at least one character in the string.\n",
      " |  \n",
      " |  isdigit(self, /)\n",
      " |      Return True if the string is a digit string, False otherwise.\n",
      " |      \n",
      " |      A string is a digit string if all characters in the string are digits and there\n",
      " |      is at least one character in the string.\n",
      " |  \n",
      " |  isidentifier(self, /)\n",
      " |      Return True if the string is a valid Python identifier, False otherwise.\n",
      " |      \n",
      " |      Call keyword.iskeyword(s) to test whether string s is a reserved identifier,\n",
      " |      such as \"def\" or \"class\".\n",
      " |  \n",
      " |  islower(self, /)\n",
      " |      Return True if the string is a lowercase string, False otherwise.\n",
      " |      \n",
      " |      A string is lowercase if all cased characters in the string are lowercase and\n",
      " |      there is at least one cased character in the string.\n",
      " |  \n",
      " |  isnumeric(self, /)\n",
      " |      Return True if the string is a numeric string, False otherwise.\n",
      " |      \n",
      " |      A string is numeric if all characters in the string are numeric and there is at\n",
      " |      least one character in the string.\n",
      " |  \n",
      " |  isprintable(self, /)\n",
      " |      Return True if the string is printable, False otherwise.\n",
      " |      \n",
      " |      A string is printable if all of its characters are considered printable in\n",
      " |      repr() or if it is empty.\n",
      " |  \n",
      " |  isspace(self, /)\n",
      " |      Return True if the string is a whitespace string, False otherwise.\n",
      " |      \n",
      " |      A string is whitespace if all characters in the string are whitespace and there\n",
      " |      is at least one character in the string.\n",
      " |  \n",
      " |  istitle(self, /)\n",
      " |      Return True if the string is a title-cased string, False otherwise.\n",
      " |      \n",
      " |      In a title-cased string, upper- and title-case characters may only\n",
      " |      follow uncased characters and lowercase characters only cased ones.\n",
      " |  \n",
      " |  isupper(self, /)\n",
      " |      Return True if the string is an uppercase string, False otherwise.\n",
      " |      \n",
      " |      A string is uppercase if all cased characters in the string are uppercase and\n",
      " |      there is at least one cased character in the string.\n",
      " |  \n",
      " |  join(self, iterable, /)\n",
      " |      Concatenate any number of strings.\n",
      " |      \n",
      " |      The string whose method is called is inserted in between each given string.\n",
      " |      The result is returned as a new string.\n",
      " |      \n",
      " |      Example: '.'.join(['ab', 'pq', 'rs']) -> 'ab.pq.rs'\n",
      " |  \n",
      " |  ljust(self, width, fillchar=' ', /)\n",
      " |      Return a left-justified string of length width.\n",
      " |      \n",
      " |      Padding is done using the specified fill character (default is a space).\n",
      " |  \n",
      " |  lower(self, /)\n",
      " |      Return a copy of the string converted to lowercase.\n",
      " |  \n",
      " |  lstrip(self, chars=None, /)\n",
      " |      Return a copy of the string with leading whitespace removed.\n",
      " |      \n",
      " |      If chars is given and not None, remove characters in chars instead.\n",
      " |  \n",
      " |  partition(self, sep, /)\n",
      " |      Partition the string into three parts using the given separator.\n",
      " |      \n",
      " |      This will search for the separator in the string.  If the separator is found,\n",
      " |      returns a 3-tuple containing the part before the separator, the separator\n",
      " |      itself, and the part after it.\n",
      " |      \n",
      " |      If the separator is not found, returns a 3-tuple containing the original string\n",
      " |      and two empty strings.\n",
      " |  \n",
      " |  removeprefix(self, prefix, /)\n",
      " |      Return a str with the given prefix string removed if present.\n",
      " |      \n",
      " |      If the string starts with the prefix string, return string[len(prefix):].\n",
      " |      Otherwise, return a copy of the original string.\n",
      " |  \n",
      " |  removesuffix(self, suffix, /)\n",
      " |      Return a str with the given suffix string removed if present.\n",
      " |      \n",
      " |      If the string ends with the suffix string and that suffix is not empty,\n",
      " |      return string[:-len(suffix)]. Otherwise, return a copy of the original\n",
      " |      string.\n",
      " |  \n",
      " |  replace(self, old, new, count=-1, /)\n",
      " |      Return a copy with all occurrences of substring old replaced by new.\n",
      " |      \n",
      " |        count\n",
      " |          Maximum number of occurrences to replace.\n",
      " |          -1 (the default value) means replace all occurrences.\n",
      " |      \n",
      " |      If the optional argument count is given, only the first count occurrences are\n",
      " |      replaced.\n",
      " |  \n",
      " |  rfind(...)\n",
      " |      S.rfind(sub[, start[, end]]) -> int\n",
      " |      \n",
      " |      Return the highest index in S where substring sub is found,\n",
      " |      such that sub is contained within S[start:end].  Optional\n",
      " |      arguments start and end are interpreted as in slice notation.\n",
      " |      \n",
      " |      Return -1 on failure.\n",
      " |  \n",
      " |  rindex(...)\n",
      " |      S.rindex(sub[, start[, end]]) -> int\n",
      " |      \n",
      " |      Return the highest index in S where substring sub is found,\n",
      " |      such that sub is contained within S[start:end].  Optional\n",
      " |      arguments start and end are interpreted as in slice notation.\n",
      " |      \n",
      " |      Raises ValueError when the substring is not found.\n",
      " |  \n",
      " |  rjust(self, width, fillchar=' ', /)\n",
      " |      Return a right-justified string of length width.\n",
      " |      \n",
      " |      Padding is done using the specified fill character (default is a space).\n",
      " |  \n",
      " |  rpartition(self, sep, /)\n",
      " |      Partition the string into three parts using the given separator.\n",
      " |      \n",
      " |      This will search for the separator in the string, starting at the end. If\n",
      " |      the separator is found, returns a 3-tuple containing the part before the\n",
      " |      separator, the separator itself, and the part after it.\n",
      " |      \n",
      " |      If the separator is not found, returns a 3-tuple containing two empty strings\n",
      " |      and the original string.\n",
      " |  \n",
      " |  rsplit(self, /, sep=None, maxsplit=-1)\n",
      " |      Return a list of the substrings in the string, using sep as the separator string.\n",
      " |      \n",
      " |        sep\n",
      " |          The separator used to split the string.\n",
      " |      \n",
      " |          When set to None (the default value), will split on any whitespace\n",
      " |          character (including \\\\n \\\\r \\\\t \\\\f and spaces) and will discard\n",
      " |          empty strings from the result.\n",
      " |        maxsplit\n",
      " |          Maximum number of splits (starting from the left).\n",
      " |          -1 (the default value) means no limit.\n",
      " |      \n",
      " |      Splitting starts at the end of the string and works to the front.\n",
      " |  \n",
      " |  rstrip(self, chars=None, /)\n",
      " |      Return a copy of the string with trailing whitespace removed.\n",
      " |      \n",
      " |      If chars is given and not None, remove characters in chars instead.\n",
      " |  \n",
      " |  split(self, /, sep=None, maxsplit=-1)\n",
      " |      Return a list of the substrings in the string, using sep as the separator string.\n",
      " |      \n",
      " |        sep\n",
      " |          The separator used to split the string.\n",
      " |      \n",
      " |          When set to None (the default value), will split on any whitespace\n",
      " |          character (including \\\\n \\\\r \\\\t \\\\f and spaces) and will discard\n",
      " |          empty strings from the result.\n",
      " |        maxsplit\n",
      " |          Maximum number of splits (starting from the left).\n",
      " |          -1 (the default value) means no limit.\n",
      " |      \n",
      " |      Note, str.split() is mainly useful for data that has been intentionally\n",
      " |      delimited.  With natural text that includes punctuation, consider using\n",
      " |      the regular expression module.\n",
      " |  \n",
      " |  splitlines(self, /, keepends=False)\n",
      " |      Return a list of the lines in the string, breaking at line boundaries.\n",
      " |      \n",
      " |      Line breaks are not included in the resulting list unless keepends is given and\n",
      " |      true.\n",
      " |  \n",
      " |  startswith(...)\n",
      " |      S.startswith(prefix[, start[, end]]) -> bool\n",
      " |      \n",
      " |      Return True if S starts with the specified prefix, False otherwise.\n",
      " |      With optional start, test S beginning at that position.\n",
      " |      With optional end, stop comparing S at that position.\n",
      " |      prefix can also be a tuple of strings to try.\n",
      " |  \n",
      " |  strip(self, chars=None, /)\n",
      " |      Return a copy of the string with leading and trailing whitespace removed.\n",
      " |      \n",
      " |      If chars is given and not None, remove characters in chars instead.\n",
      " |  \n",
      " |  swapcase(self, /)\n",
      " |      Convert uppercase characters to lowercase and lowercase characters to uppercase.\n",
      " |  \n",
      " |  title(self, /)\n",
      " |      Return a version of the string where each word is titlecased.\n",
      " |      \n",
      " |      More specifically, words start with uppercased characters and all remaining\n",
      " |      cased characters have lower case.\n",
      " |  \n",
      " |  translate(self, table, /)\n",
      " |      Replace each character in the string using the given translation table.\n",
      " |      \n",
      " |        table\n",
      " |          Translation table, which must be a mapping of Unicode ordinals to\n",
      " |          Unicode ordinals, strings, or None.\n",
      " |      \n",
      " |      The table must implement lookup/indexing via __getitem__, for instance a\n",
      " |      dictionary or list.  If this operation raises LookupError, the character is\n",
      " |      left untouched.  Characters mapped to None are deleted.\n",
      " |  \n",
      " |  upper(self, /)\n",
      " |      Return a copy of the string converted to uppercase.\n",
      " |  \n",
      " |  zfill(self, width, /)\n",
      " |      Pad a numeric string with zeros on the left, to fill a field of the given width.\n",
      " |      \n",
      " |      The string is never truncated.\n",
      " |  \n",
      " |  ----------------------------------------------------------------------\n",
      " |  Static methods defined here:\n",
      " |  \n",
      " |  __new__(*args, **kwargs) from builtins.type\n",
      " |      Create and return a new object.  See help(type) for accurate signature.\n",
      " |  \n",
      " |  maketrans(...)\n",
      " |      Return a translation table usable for str.translate().\n",
      " |      \n",
      " |      If there is only one argument, it must be a dictionary mapping Unicode\n",
      " |      ordinals (integers) or characters to Unicode ordinals, strings or None.\n",
      " |      Character keys will be then converted to ordinals.\n",
      " |      If there are two arguments, they must be strings of equal length, and\n",
      " |      in the resulting dictionary, each character in x will be mapped to the\n",
      " |      character at the same position in y. If there is a third argument, it\n",
      " |      must be a string, whose characters will be mapped to None in the result.\n",
      "\n"
     ]
    }
   ],
   "source": [
    "# help on class str shows all the methods available:\n",
    "help(str)"
   ]
  },
  {
   "cell_type": "code",
   "execution_count": 14,
   "metadata": {
    "scrolled": true
   },
   "outputs": [
    {
     "data": {
      "text/plain": [
       "False"
      ]
     },
     "execution_count": 14,
     "metadata": {},
     "output_type": "execute_result"
    }
   ],
   "source": [
    "# You can also reveal the objects methods with the <tab> key:\n",
    "s1.isdecimal()"
   ]
  },
  {
   "cell_type": "code",
   "execution_count": 17,
   "metadata": {},
   "outputs": [
    {
     "data": {
      "text/plain": [
       "5"
      ]
     },
     "execution_count": 17,
     "metadata": {},
     "output_type": "execute_result"
    }
   ],
   "source": [
    "#You can use the parenthesis below, or a forward slash (/), to go over multiple lines.\n",
    "x=3\n",
    "y=2\n",
    "z = (3 +\n",
    "    y)\n",
    "z"
   ]
  },
  {
   "cell_type": "markdown",
   "metadata": {},
   "source": [
    "For more on strings see the [Python Tutorial](https://docs.python.org/3/tutorial/introduction.html#strings) ."
   ]
  },
  {
   "cell_type": "markdown",
   "metadata": {},
   "source": [
    "# f-strings\n",
    "f-strings provide a simple way to format text, and were introduced RECENTLY in PYTHON VERSION 3.6. f-strings are convenient, easy to read, and they are fast."
   ]
  },
  {
   "cell_type": "code",
   "execution_count": 19,
   "metadata": {},
   "outputs": [
    {
     "name": "stdout",
     "output_type": "stream",
     "text": [
      "It's easy to format text with f-strings, which were added in python version 3.6.\n",
      "My name is Brett and my age is 61.\n"
     ]
    }
   ],
   "source": [
    "# f-strings are an easy way to format text.\n",
    "version_number = 3.6\n",
    "s4 = f\"It's easy to format text with f-strings, which were added in python version {version_number}.\"\n",
    "print(s4)\n",
    "# One could re-write the little exercise above like this:\n",
    "name=\"Brett\"\n",
    "age=61\n",
    "print(f\"My name is {name} and my age is {age}.\") #With an F-string, you don't need commas to paste your elements together. commas are replaced by spaces."
   ]
  },
  {
   "cell_type": "markdown",
   "metadata": {},
   "source": [
    "Any python expression can appear within the curly braces - you can call functions, use operators, and so on. More on formatting in the [Python Tutorial](https://docs.python.org/3/tutorial/inputoutput.html) ."
   ]
  },
  {
   "cell_type": "markdown",
   "metadata": {
    "slideshow": {
     "slide_type": "slide"
    },
    "tags": []
   },
   "source": [
    "# Lists\n",
    "\n",
    "* Ordered collection of 0 or more elements\n",
    "* Elements don't have to be unique\n",
    "* Elements can be various types, even other lists\n",
    "* Mutable (ie you can add and remove elements, change order, etc)\n",
    "* To create a list:\n",
    "  * **\\[** element1, element2, element3, ... **\\]** creates a new list\n",
    "  * list() turns its single argument into a list\n",
    "  * List comprehension - we'll get to this later\n",
    "* Pros - incredibly flexible. Cons - slow."
   ]
  },
  {
   "cell_type": "markdown",
   "metadata": {
    "slideshow": {
     "slide_type": "subslide"
    }
   },
   "source": [
    "## List operators"
   ]
  },
  {
   "cell_type": "code",
   "execution_count": 22,
   "metadata": {
    "slideshow": {
     "slide_type": "-"
    }
   },
   "outputs": [
    {
     "name": "stdout",
     "output_type": "stream",
     "text": [
      "List a1 is: ['a', 'x', 'b', 'w', 'd', 'e']\n",
      "List a2 is: ['z']\n",
      "Length of a1 is 6.\n",
      "Length of a2 is 1.\n",
      "a1+a2=['a', 'x', 'b', 'w', 'd', 'e', 'z'], a2*3=['z', 'z', 'z']\n"
     ]
    }
   ],
   "source": [
    "# Lets create some lists:\n",
    "a1=['a','x','b','w','d','e']\n",
    "a2=list('z')\n",
    "print(f\"List a1 is: {a1}\")\n",
    "print(f\"List a2 is: {a2}\")\n",
    "\n",
    "# Lists have a length:\n",
    "print( f\"Length of a1 is {len(a1)}.\")\n",
    "print( f\"Length of a2 is {len(a2)}.\")\n",
    "\n",
    "# Some operators work on lists:\n",
    "print(f\"a1+a2={a1+a2}, a2*3={a2*3}\")"
   ]
  },
  {
   "cell_type": "code",
   "execution_count": 25,
   "metadata": {},
   "outputs": [
    {
     "ename": "TypeError",
     "evalue": "unsupported operand type(s) for /: 'list' and 'int'",
     "output_type": "error",
     "traceback": [
      "\u001b[0;31m---------------------------------------------------------------------------\u001b[0m",
      "\u001b[0;31mTypeError\u001b[0m                                 Traceback (most recent call last)",
      "Cell \u001b[0;32mIn[25], line 2\u001b[0m\n\u001b[1;32m      1\u001b[0m \u001b[38;5;66;03m# And some operators don't:\u001b[39;00m\n\u001b[0;32m----> 2\u001b[0m \u001b[38;5;28mprint\u001b[39m(\u001b[38;5;124mf\u001b[39m\u001b[38;5;124m\"\u001b[39m\u001b[38;5;124ma1/2=\u001b[39m\u001b[38;5;132;01m{\u001b[39;00m\u001b[43ma1\u001b[49m\u001b[38;5;241;43m/\u001b[39;49m\u001b[38;5;241;43m2\u001b[39;49m\u001b[38;5;132;01m}\u001b[39;00m\u001b[38;5;124m\"\u001b[39m)\n",
      "\u001b[0;31mTypeError\u001b[0m: unsupported operand type(s) for /: 'list' and 'int'"
     ]
    }
   ],
   "source": [
    "# And some operators don't:\n",
    "print(f\"a1/2={a1/2}\")"
   ]
  },
  {
   "cell_type": "markdown",
   "metadata": {
    "slideshow": {
     "slide_type": "subslide"
    }
   },
   "source": [
    "## List objects have some methods"
   ]
  },
  {
   "cell_type": "code",
   "execution_count": 27,
   "metadata": {
    "scrolled": true
   },
   "outputs": [
    {
     "name": "stdout",
     "output_type": "stream",
     "text": [
      "With 'a' removed: ['x', 'b', 'w', 'd', 'e']\n",
      "Sorted: ['b', 'd', 'e', 'w', 'x']\n",
      "Reversed: ['x', 'w', 'e', 'd', 'b']\n",
      "With 'p' appended: ['x', 'w', 'e', 'd', 'b', 'p']\n",
      "Last element (which has been removed): p\n",
      "First element (which has been removed): x\n"
     ]
    }
   ],
   "source": [
    "l=['a','x','b','w','d','e']\n",
    "l.remove('a')\n",
    "print(\"With 'a' removed:\", l)\n",
    "l.sort()\n",
    "print(\"Sorted:\",l)\n",
    "l.reverse()\n",
    "print(\"Reversed:\",l)\n",
    "l.append('p')\n",
    "print(\"With 'p' appended:\",l)\n",
    "print(\"Last element (which has been removed):\", l.pop()) #from a \"stack\".\n",
    "print(\"First element (which has been removed):\", l.pop(0))"
   ]
  },
  {
   "cell_type": "markdown",
   "metadata": {},
   "source": [
    "## A note on performance\n",
    "Suppose you want to add an element to list l above. You could do it like this:\n",
    "```\n",
    "l = l + ['x']\n",
    "```\n",
    "or you could do it like this:\n",
    "```\n",
    "l.append('x')\n",
    "```\n",
    "Both lines of code accomplish the same thing, but the second is **much** faster."
   ]
  },
  {
   "cell_type": "markdown",
   "metadata": {},
   "source": [
    "For more on lists see the [Python Tutorial](https://docs.python.org/3/tutorial/datastructures.html#more-on-lists) ."
   ]
  },
  {
   "cell_type": "markdown",
   "metadata": {
    "slideshow": {
     "slide_type": "slide"
    },
    "tags": []
   },
   "source": [
    "# Accessing sequence elements by index\n",
    "* Strings and lists are examples of **sequences**.\n",
    "* You can access one or more elements of a sequence with their index number in square brackets: [ ]\n",
    "* Indexes range from 0 up to (sequence length - 1)\n",
    "* Negative indexes count backwards from the end: -1 is the last element, -2 the second from last, etc.\n",
    "* Within the brackets you can provide the [start:end+1:stepsize] where start defaults to 0, end+1 defaults to the end of the list, and stepsize defaults to 1."
   ]
  },
  {
   "cell_type": "code",
   "execution_count": 29,
   "metadata": {},
   "outputs": [
    {
     "name": "stdout",
     "output_type": "stream",
     "text": [
      "['a', 'b', 'c', 'd', 'e', 'f', 'g', 'h', 'i', 'j', 'k', 'l', 'm']\n",
      "a\n",
      "m\n",
      "['a', 'b', 'c']\n",
      "['d', 'f', 'h', 'j', 'l']\n"
     ]
    }
   ],
   "source": [
    "letters = ['a','b','c','d','e','f','g','h','i','j','k','l','m']\n",
    "print(letters)\n",
    "print(letters[0]) #whoa, R counts indexes from 1, not 0!\n",
    "print(letters[-1])\n",
    "print(letters[0:3])\n",
    "print(letters[3:12:2])"
   ]
  },
  {
   "cell_type": "markdown",
   "metadata": {
    "slideshow": {
     "slide_type": "slide"
    },
    "tags": []
   },
   "source": [
    "# Functions\n",
    "Functions are reusable chunks of python code. Writing them is great practice for learning the code. They (usually) have a name, they can take 0 or more arguments, and they  return a value.<br>\n",
    "If you don't explicitly return a value, a function returns \"None\".\n",
    "This is the general layout of a function definition in Python:\n",
    "\n",
    "* Function announced with the <font color=\"green\"><b>def</b></font> keyword\n",
    "* Followed by the function name\n",
    "* Followed by 0 or more arguments in parentheses, and a colon.\n",
    "* Followed by optional documentation string. <font color=\"red\"><b>Recommendation</b></font> :: use doc strings\n",
    "* Body of the function (which is indented relative to the 'def' statement).\n",
    "* Optional return of a return value, for example:  return value1\n",
    "* If there is no return statement then the function returns <font color=\"red\"><b>None</b></font>"
   ]
  },
  {
   "cell_type": "code",
   "execution_count": 40,
   "metadata": {},
   "outputs": [
    {
     "name": "stdout",
     "output_type": "stream",
     "text": [
      "Value of argument1: a\n",
      "Value of argument2: 2\n",
      "Value of argumentn: 3.14\n",
      "test_function returned None\n",
      "Help on function test_function in module __main__:\n",
      "\n",
      "test_function(argument1, argument2, argumentn)\n",
      "    This is the documentation string (or docstring) for the function\n",
      "\n"
     ]
    }
   ],
   "source": [
    "def test_function( argument1, argument2, argumentn): #every function starts and ends like this. If you're going to define a default value while you're defining the function, they need to come at the end of the list.\n",
    "    \"This is the documentation string (or docstring) for the function\" #a character string briefly describing the function. You can hash/sharp it out if you need to.\n",
    "    # The body of the function goes here:\n",
    "    print(\"Value of argument1:\",argument1)\n",
    "    print(\"Value of argument2:\",argument2)\n",
    "    print(\"Value of argumentn:\",argumentn)\n",
    "    \n",
    "x=test_function('a',2,3.14)\n",
    "print(\"test_function returned\",x)\n",
    "help(test_function)"
   ]
  },
  {
   "cell_type": "markdown",
   "metadata": {
    "slideshow": {
     "slide_type": "slide"
    },
    "tags": []
   },
   "source": [
    "## Exercise: Hello World function\n",
    "In the following cell, create a function named hello_world() that takes no arguments. It should print \"Hello, World!\" when you call the function.\n",
    "Then, modify your function to take one optional argument that defaults to \"World\". If called without an argument your function should print \"Hello, World!\". If you pass a value to the function, for example \"Bob\", your function should print \"Hello, Bob!\"."
   ]
  },
  {
   "cell_type": "code",
   "execution_count": 47,
   "metadata": {},
   "outputs": [
    {
     "name": "stdout",
     "output_type": "stream",
     "text": [
      "None\n"
     ]
    }
   ],
   "source": [
    "def hello_world(argument1, argument2):\n",
    "    x=hello_world(hello, world)\n",
    "print(x)"
   ]
  },
  {
   "cell_type": "code",
   "execution_count": 54,
   "metadata": {},
   "outputs": [
    {
     "name": "stdout",
     "output_type": "stream",
     "text": [
      "Hello, World!\n"
     ]
    }
   ],
   "source": [
    "def hello_world():\n",
    "    print(\"Hello, World!\")\n",
    "\n",
    "hello_world()"
   ]
  },
  {
   "cell_type": "code",
   "execution_count": 55,
   "metadata": {},
   "outputs": [
    {
     "name": "stdout",
     "output_type": "stream",
     "text": [
      "Hello, Kristin!\n"
     ]
    }
   ],
   "source": [
    "def hello_world(person=\"Kristin\"):\n",
    "    print(f\"Hello, {person}!\")\n",
    "\n",
    "hello_world()"
   ]
  },
  {
   "cell_type": "markdown",
   "metadata": {
    "slideshow": {
     "slide_type": "slide"
    }
   },
   "source": [
    "## Flow control: the if / elif / else statement\n",
    "Its **imperative** that your code can branch depending on different situations that arise. The **if** statement lets you do this:"
   ]
  },
  {
   "cell_type": "code",
   "execution_count": 5,
   "metadata": {},
   "outputs": [
    {
     "name": "stdout",
     "output_type": "stream",
     "text": [
      "The animal is a cat\n"
     ]
    }
   ],
   "source": [
    "animal='cat'\n",
    "if animal == 'dog':\n",
    "    print(\"The animal is a dog.\")\n",
    "elif animal == 'cat':\n",
    "    print(\"The animal is a cat\")\n",
    "else:\n",
    "    print(\"The animal is neither dog nor cat!\")"
   ]
  },
  {
   "cell_type": "markdown",
   "metadata": {},
   "source": [
    "Both the `elif` and `else` clauses are optional. Note the white space before the `print` statements - that indentation is significant!"
   ]
  },
  {
   "cell_type": "markdown",
   "metadata": {
    "slideshow": {
     "slide_type": "slide"
    },
    "tags": []
   },
   "source": [
    "## Return statement\n",
    "Frequently you want to return one or more values from a function back to the code that called it. To do this we use the **return** statement:"
   ]
  },
  {
   "cell_type": "raw",
   "metadata": {},
   "source": [
    "# Return a single value:\n",
    "return x\n",
    "# Return multiple values as a tuple (more on tuples later):\n",
    "return ( mean, std_deviation )\n",
    "# Return the outcome of a logical test as a True or False value:\n",
    "return x < 5"
   ]
  },
  {
   "cell_type": "markdown",
   "metadata": {},
   "source": [
    "For more on functions and the return statement see the [Python Tutorial](https://docs.python.org/3/tutorial/controlflow.html#defining-functions)."
   ]
  },
  {
   "cell_type": "markdown",
   "metadata": {
    "slideshow": {
     "slide_type": "slide"
    }
   },
   "source": [
    "## Exercise: Odd or Even function\n",
    "Create a function that takes one argument and returns the string \"odd\" or \"even\", depending on whether the argument is an odd number or an even number. Assume for now that the argument is a positive integer."
   ]
  },
  {
   "cell_type": "code",
   "execution_count": null,
   "metadata": {},
   "outputs": [],
   "source": [
    "def odd_or_even(number):\n",
    "    return number/2.0\n",
    "    if number/2.0 == int()"
   ]
  },
  {
   "cell_type": "code",
   "execution_count": 8,
   "metadata": {},
   "outputs": [
    {
     "name": "stdout",
     "output_type": "stream",
     "text": [
      "even\n"
     ]
    }
   ],
   "source": [
    "def odd_or_even(x):\n",
    "    if x % 2 == 0:\n",
    "        return \"even\"\n",
    "    else:\n",
    "        return \"odd\"\n",
    "\n",
    "z = odd_or_even(6)\n",
    "print(z)"
   ]
  },
  {
   "cell_type": "markdown",
   "metadata": {
    "slideshow": {
     "slide_type": "slide"
    }
   },
   "source": [
    "# Anonymous functions (lambda expressions)\n",
    "Functions are objects, like everything else in Python. Most functions are associated with an identifier, like hello_world.  \n",
    "There are situations where we want to pass a function as an argument to another function, and one way to do that is with the function's name. Here is an example using the **map()** function, which applies a function to each element of a list:"
   ]
  },
  {
   "cell_type": "code",
   "execution_count": 9,
   "metadata": {
    "scrolled": true
   },
   "outputs": [
    {
     "name": "stdout",
     "output_type": "stream",
     "text": [
      "[0, 1, 2, 3, 4, 5, 6, 7, 8, 9]\n",
      "[0.0, 0.1, 0.2, 0.3, 0.4, 0.5, 0.6, 0.7, 0.8, 0.9]\n"
     ]
    }
   ],
   "source": [
    "def divide_by_ten(x):\n",
    "    \"This function takes a number as an argument and returns that number divided by 10.\"\n",
    "    return x/10.0\n",
    "\n",
    "# Here is a list of numbers we want to divide by 10:\n",
    "numbers = [0,1,2,3,4,5,6,7,8,9]\n",
    "\n",
    "# Now we use the map() statement to apply the divide_by_ten function to each element in the list. the first is the function, and the second is the list:\n",
    "tenths = list(map(divide_by_ten, numbers))\n",
    "\n",
    "# Print out the original numbers, and those numbers divided by 10:\n",
    "print(numbers)\n",
    "print(tenths)"
   ]
  },
  {
   "cell_type": "markdown",
   "metadata": {},
   "source": [
    "But defining a new function for something so trivial, that I may only use once, is really klunky. So I can use a \"lambda expression\" to create an anonymous function right where I need it:"
   ]
  },
  {
   "cell_type": "code",
   "execution_count": 10,
   "metadata": {
    "scrolled": true
   },
   "outputs": [
    {
     "name": "stdout",
     "output_type": "stream",
     "text": [
      "[0, 1, 2, 3, 4, 5, 6, 7, 8, 9]\n",
      "[0.0, 0.1, 0.2, 0.3, 0.4, 0.5, 0.6, 0.7, 0.8, 0.9]\n"
     ]
    }
   ],
   "source": [
    "numbers = [0,1,2,3,4,5,6,7,8,9]\n",
    "tenths = list( map( lambda x: x/10.0, numbers )) #\"lambda x: x/10\" is a lot more concise than the above\n",
    "print(numbers)\n",
    "print(tenths)"
   ]
  },
  {
   "cell_type": "markdown",
   "metadata": {
    "slideshow": {
     "slide_type": "subslide"
    }
   },
   "source": [
    "## You can assign a lambda expression to an identifier"
   ]
  },
  {
   "cell_type": "code",
   "execution_count": 11,
   "metadata": {},
   "outputs": [
    {
     "data": {
      "text/plain": [
       "0.3"
      ]
     },
     "execution_count": 11,
     "metadata": {},
     "output_type": "execute_result"
    }
   ],
   "source": [
    "divide_by_ten = lambda x: x/10.0\n",
    "divide_by_ten(3)"
   ]
  },
  {
   "cell_type": "markdown",
   "metadata": {},
   "source": [
    "Unlike functions defined with \"def\", lambda can only create \"one-liners\".\n",
    "\n",
    "More on lambda and anonymous functions in the [Python Tutorial](https://docs.python.org/3/tutorial/controlflow.html#lambda-expressions \"Python Tutorial\") ."
   ]
  },
  {
   "cell_type": "markdown",
   "metadata": {
    "slideshow": {
     "slide_type": "slide"
    }
   },
   "source": [
    "# File input / output (I/O)\n",
    "Its useful to read data from files, or write data to files. This is done through file objects, which are created using the `open()` function. Files can be opened for reading (\"r\"), writing (\"w\"), or appending (\"a\"):"
   ]
  },
  {
   "cell_type": "code",
   "execution_count": 12,
   "metadata": {},
   "outputs": [
    {
     "name": "stdout",
     "output_type": "stream",
     "text": [
      "Read this data from the file: 'Bella,female,1\n",
      "'\n"
     ]
    }
   ],
   "source": [
    "input_file = open(\"popular_dog_names.txt\",\"r\")    # Open a file for reading.\n",
    "first_line = input_file.readline()                # Read one line.\n",
    "input_file.close()                                # Close the input file.\n",
    "print(f\"Read this data from the file: '{first_line}'\")\n",
    "output_file = open(\"tmpfile.txt\",\"w\")             # Open another file for writing. This erases the file if it exists.\n",
    "output_file.write(first_line)\n",
    "output_file.close()"
   ]
  },
  {
   "cell_type": "markdown",
   "metadata": {},
   "source": [
    "You can also read all the lines of a file into a list with input_file.readlines(), but be careful! The file might be big!\n",
    "\n",
    "**Note:** If you are working with binary data files (rather than text files) you need to open them in the \"rb\", \"wb\", or \"ab\" mode, and you may find the [struct](https://docs.python.org/3/library/struct.html) library helpful."
   ]
  },
  {
   "cell_type": "markdown",
   "metadata": {
    "slideshow": {
     "slide_type": "subslide"
    },
    "tags": []
   },
   "source": [
    "## File I/O and the with statement\n",
    "A common pattern in Python is:\n",
    "> Try to open a file. <br>\n",
    "> If that worked, read from or write to the file. <br>\n",
    "> Close the file.\n",
    "\n",
    "This is so common that Python provides a statement to simplify this: `with`"
   ]
  },
  {
   "cell_type": "code",
   "execution_count": 1,
   "metadata": {
    "scrolled": true
   },
   "outputs": [
    {
     "name": "stdout",
     "output_type": "stream",
     "text": [
      "The file contains 20 lines of data.\n",
      "The first line is 'Bella,female,1\n",
      "'\n",
      "The last line is 'Tucker,male,10\n",
      "'\n"
     ]
    }
   ],
   "source": [
    "with open(\"popular_dog_names.txt\",\"r\") as input_file:\n",
    "    all_lines = input_file.readlines()\n",
    "    print(f\"The file contains {len(all_lines)} lines of data.\")\n",
    "    print(f\"The first line is '{all_lines[0]}'\")\n",
    "    print(f\"The last line is '{all_lines[-1]}'\")"
   ]
  },
  {
   "cell_type": "markdown",
   "metadata": {},
   "source": [
    "At the end of the **with** clause the file is closed.\n",
    "\n",
    "You can use **with** for more than just file I/O. For all this to work, the object created in the **with** statement must have the methods **\\_\\_enter\\_\\_** and **\\_\\_exit\\_\\_**. See the documentation [here](https://docs.python.org/3/reference/compound_stmts.html#with)."
   ]
  },
  {
   "cell_type": "markdown",
   "metadata": {},
   "source": [
    "# Looping\n",
    "Python provides two different types of loop statements: while loops and for loops."
   ]
  },
  {
   "cell_type": "markdown",
   "metadata": {
    "slideshow": {
     "slide_type": "slide"
    }
   },
   "source": [
    "## While loops\n",
    "A while loop tests some logical condition, and executes the body of the loop while that condition evaluates to True:"
   ]
  },
  {
   "cell_type": "code",
   "execution_count": 2,
   "metadata": {},
   "outputs": [
    {
     "name": "stdout",
     "output_type": "stream",
     "text": [
      "[0, 1, 1, 2, 3, 5, 8, 13, 21, 34]\n"
     ]
    }
   ],
   "source": [
    "# Calculate the first 10 elements of the Fibonacci sequence:\n",
    "fibonacci=[0,1]\n",
    "while len(fibonacci) < 10:\n",
    "    fibonacci.append( fibonacci[-2] + fibonacci[-1] ) #the sum of the last 2 elements in the list.\n",
    "print(fibonacci)"
   ]
  },
  {
   "cell_type": "markdown",
   "metadata": {
    "slideshow": {
     "slide_type": "slide"
    }
   },
   "source": [
    "## For loops\n",
    "For loops let you process each item in a sequence of items, for example each item in a list:"
   ]
  },
  {
   "cell_type": "code",
   "execution_count": 4,
   "metadata": {},
   "outputs": [
    {
     "name": "stdout",
     "output_type": "stream",
     "text": [
      "a\n",
      "e\n",
      "i\n",
      "o\n",
      "u\n"
     ]
    }
   ],
   "source": [
    "for letter in ['a', 'e', 'i', 'o', 'u']: #doesn't have to be a list, can be other things. This is \"iteration.\"\n",
    "    print(letter)"
   ]
  },
  {
   "cell_type": "markdown",
   "metadata": {},
   "source": [
    "There are a number of other functions and statements that are useful in the context of loops."
   ]
  },
  {
   "cell_type": "markdown",
   "metadata": {
    "slideshow": {
     "slide_type": "slide"
    }
   },
   "source": [
    "## The range() function\n",
    "`range(start,stop,[stepsize=1])` returns a list-like object containing integers from start to stop-1. This is useful for all kinds of list processing and for-loop control:"
   ]
  },
  {
   "cell_type": "code",
   "execution_count": 10,
   "metadata": {},
   "outputs": [
    {
     "name": "stdout",
     "output_type": "stream",
     "text": [
      "Item 0 in the list is hydrogen.\n",
      "Item 1 in the list is helium.\n",
      "Item 2 in the list is lithium.\n",
      "Item 3 in the list is berylium.\n",
      "Item 4 in the list is boron.\n",
      "Item 5 in the list is carbon.\n",
      "Item 6 in the list is nitrogen.\n",
      "Item 7 in the list is oxygen.\n",
      "Item 8 in the list is fluorine.\n"
     ]
    }
   ],
   "source": [
    "element_names=['hydrogen','helium','lithium','berylium','boron','carbon','nitrogen','oxygen','fluorine']\n",
    "for i in range(0,len(element_names)):\n",
    "    print( f\"Item {i} in the list is {element_names[i]}.\")"
   ]
  },
  {
   "cell_type": "code",
   "execution_count": 11,
   "metadata": {
    "scrolled": true
   },
   "outputs": [
    {
     "name": "stdout",
     "output_type": "stream",
     "text": [
      "[0, 1, 2]\n"
     ]
    }
   ],
   "source": [
    "# The stepsize defaults to 1 and the start value defaults to 0. \n",
    "print(list(range(3)))\n",
    "\n",
    "#If the stop position is a HUGE number, you risk getting a list that shuts down your computer. If you have \"range\" function without the list function, it stays safe."
   ]
  },
  {
   "cell_type": "markdown",
   "metadata": {
    "slideshow": {
     "slide_type": "slide"
    }
   },
   "source": [
    "## Exercise: Factorial function\n",
    "Create a function named \"factorial\" that takes one argument, n, and returns n! (ie 1 * 2 * 3 * ... * (n-2) * (n-1) * n). This is easy to implement with a for loop.\n",
    "\n",
    "For this exercise, you can assume that the argument is a positive integer. Write the factorial function, and try calling it with a few different positive integer values.\n",
    "\n",
    "(You could also get fancy and write a recursive function, a function that calls itself. **If you do this** make sure your code tests when to end the recursion!)"
   ]
  },
  {
   "cell_type": "code",
   "execution_count": 14,
   "metadata": {},
   "outputs": [
    {
     "ename": "SyntaxError",
     "evalue": "invalid syntax (167545624.py, line 1)",
     "output_type": "error",
     "traceback": [
      "\u001b[0;36m  Cell \u001b[0;32mIn[14], line 1\u001b[0;36m\u001b[0m\n\u001b[0;31m    def factorial(int[n]):\u001b[0m\n\u001b[0m                     ^\u001b[0m\n\u001b[0;31mSyntaxError\u001b[0m\u001b[0;31m:\u001b[0m invalid syntax\n"
     ]
    }
   ],
   "source": [
    "def factorial(n):\n",
    "    n=int(n)\n",
    "    for n in range(0,len()):\n",
    "        print(n*(n-1)\n",
    "        "
   ]
  },
  {
   "cell_type": "code",
   "execution_count": 17,
   "metadata": {},
   "outputs": [
    {
     "data": {
      "text/plain": [
       "120"
      ]
     },
     "execution_count": 17,
     "metadata": {},
     "output_type": "execute_result"
    }
   ],
   "source": [
    "def factorial(n):\n",
    "    \"Returns n!\"\n",
    "    product = 1\n",
    "    for i in range(1,n+1):\n",
    "        product = product * i\n",
    "    return product\n",
    "\n",
    "factorial(5)"
   ]
  },
  {
   "cell_type": "markdown",
   "metadata": {
    "slideshow": {
     "slide_type": "slide"
    },
    "tags": []
   },
   "source": [
    "## Looping flow control: the continue statement\n",
    "Sometimes you want to skip the rest of the body of a loop, and **continue** with the next iteration:"
   ]
  },
  {
   "cell_type": "code",
   "execution_count": 20,
   "metadata": {},
   "outputs": [
    {
     "name": "stdout",
     "output_type": "stream",
     "text": [
      "21\n",
      "['b', 'c', 'd', 'f', 'g', 'h', 'j', 'k', 'l', 'm', 'n', 'p', 'q', 'r', 's', 't', 'v', 'w', 'x', 'y', 'z']\n"
     ]
    }
   ],
   "source": [
    "consonants = []\n",
    "vowels = ['a','e','i','o','u']\n",
    "for letter in \"abcdefghijklmnopqrstuvwxyz\":\n",
    "    if letter in vowels:\n",
    "        continue\n",
    "    consonants.append(letter)\n",
    "print(len(consonants))\n",
    "print(consonants)"
   ]
  },
  {
   "cell_type": "markdown",
   "metadata": {
    "slideshow": {
     "slide_type": "subslide"
    },
    "tags": []
   },
   "source": [
    "## Looping flow control: the break statement\n",
    "Sometimes you need to **break** out of a loop completely, before you've reached the last iteration:"
   ]
  },
  {
   "cell_type": "code",
   "execution_count": 21,
   "metadata": {},
   "outputs": [
    {
     "name": "stdout",
     "output_type": "stream",
     "text": [
      "100\n",
      "99\n",
      "98\n",
      "The biggest multiple of 7 less than 100 is 98.\n"
     ]
    }
   ],
   "source": [
    "i=100\n",
    "while i > 0:\n",
    "    print(i)\n",
    "    if i % 7 == 0:\n",
    "        break\n",
    "    i-=1\n",
    "print(f\"The biggest multiple of 7 less than 100 is {i}.\")"
   ]
  },
  {
   "cell_type": "markdown",
   "metadata": {
    "slideshow": {
     "slide_type": "slide"
    }
   },
   "source": [
    "## List comprehension\n",
    "For loops are handy for populating lists. Let's say we want a list of integers from 0 to 9 squared. You could write this:"
   ]
  },
  {
   "cell_type": "code",
   "execution_count": 23,
   "metadata": {},
   "outputs": [
    {
     "data": {
      "text/plain": [
       "[0, 1, 4, 9, 16, 25, 36, 49, 64, 81]"
      ]
     },
     "execution_count": 23,
     "metadata": {},
     "output_type": "execute_result"
    }
   ],
   "source": [
    "squared_integers = []\n",
    "for i in range(0,10):\n",
    "    squared_integers.append( i * i )\n",
    "squared_integers"
   ]
  },
  {
   "cell_type": "markdown",
   "metadata": {},
   "source": [
    "But its easier to write this:"
   ]
  },
  {
   "cell_type": "code",
   "execution_count": 25,
   "metadata": {},
   "outputs": [
    {
     "data": {
      "text/plain": [
       "[0, 1, 4, 9, 16, 25, 36, 49, 64, 81]"
      ]
     },
     "execution_count": 25,
     "metadata": {},
     "output_type": "execute_result"
    }
   ],
   "source": [
    "squared_integers = [ i * i for i in range(0,10) ]\n",
    "squared_integers \n",
    "#is this only for \"for\", or is it only for \"lists\"?"
   ]
  },
  {
   "cell_type": "markdown",
   "metadata": {},
   "source": [
    "This is \"list comprehension\", first introduced in Python version 2.0.\n",
    "For more details see the [Python Tutorial](https://docs.python.org/3/tutorial/datastructures.html#list-comprehensions \"Python Tutorial\") ."
   ]
  },
  {
   "cell_type": "markdown",
   "metadata": {
    "slideshow": {
     "slide_type": "slide"
    },
    "tags": []
   },
   "source": [
    "## Iterators\n",
    "For loops can iterate across a variety of objects, such as strings, lists, range() objects, or open files. These objects are all iterators. More on iterators [here](https://docs.python.org/3/tutorial/classes.html#iterators \"Python Tutorial\")."
   ]
  },
  {
   "cell_type": "code",
   "execution_count": 26,
   "metadata": {
    "scrolled": true
   },
   "outputs": [
    {
     "name": "stdout",
     "output_type": "stream",
     "text": [
      "A\n",
      "B\n",
      "C\n",
      "a\n",
      "e\n",
      "i\n",
      "o\n",
      "u\n",
      "0\n",
      "1\n",
      "2\n",
      "3\n",
      "4\n",
      "Molly,female,6\n",
      "Maggie,female,10\n",
      "Max,male,1\n"
     ]
    }
   ],
   "source": [
    "for letter in \"ABC\":\n",
    "    print(letter)\n",
    "for vowel in ['a','e','i','o','u']:\n",
    "    print(vowel)\n",
    "for number in range(0,5):\n",
    "    print(number)\n",
    "with open(\"popular_dog_names.txt\",\"r\") as dog_file:\n",
    "    for line in dog_file:\n",
    "        if line.startswith('M'):\n",
    "            print(line.strip())"
   ]
  },
  {
   "cell_type": "markdown",
   "metadata": {
    "slideshow": {
     "slide_type": "slide"
    }
   },
   "source": [
    "## Exercise: Dog name finder\n",
    "The file \"popular_dog_names.txt\" lists the 10 most popular names for female and male dogs in 2016 (according to the [American Kennel Club](https://www.akc.org/expert-advice/news/popular-dog-names-2016/)). Write a function that accepts a proposed dog name, and checks the popular_dog_names.txt file to see if that name is popular. If it is, print that the proposed name is popular, its rank, and for what gender of dog. If the proposed name is not found, print that the name wasn't found."
   ]
  },
  {
   "cell_type": "code",
   "execution_count": 44,
   "metadata": {},
   "outputs": [
    {
     "ename": "AttributeError",
     "evalue": "'str' object has no attribute 'contains'",
     "output_type": "error",
     "traceback": [
      "\u001b[0;31m---------------------------------------------------------------------------\u001b[0m",
      "\u001b[0;31mAttributeError\u001b[0m                            Traceback (most recent call last)",
      "Cell \u001b[0;32mIn[44], line 9\u001b[0m\n\u001b[1;32m      6\u001b[0m             \u001b[38;5;28;01melse\u001b[39;00m:\n\u001b[1;32m      7\u001b[0m                 \u001b[38;5;28mprint\u001b[39m(\u001b[38;5;124mf\u001b[39m\u001b[38;5;124m\"\u001b[39m\u001b[38;5;132;01m{\u001b[39;00mn\u001b[38;5;132;01m}\u001b[39;00m\u001b[38;5;124m is NOT popular.\u001b[39m\u001b[38;5;124m\"\u001b[39m)\n\u001b[0;32m----> 9\u001b[0m \u001b[43mdog_name\u001b[49m\u001b[43m(\u001b[49m\u001b[38;5;124;43m\"\u001b[39;49m\u001b[38;5;124;43mSpot\u001b[39;49m\u001b[38;5;124;43m\"\u001b[39;49m\u001b[43m)\u001b[49m\n",
      "Cell \u001b[0;32mIn[44], line 4\u001b[0m, in \u001b[0;36mdog_name\u001b[0;34m(n)\u001b[0m\n\u001b[1;32m      2\u001b[0m \u001b[38;5;28;01mwith\u001b[39;00m \u001b[38;5;28mopen\u001b[39m(\u001b[38;5;124m\"\u001b[39m\u001b[38;5;124mpopular_dog_names.txt\u001b[39m\u001b[38;5;124m\"\u001b[39m,\u001b[38;5;124m\"\u001b[39m\u001b[38;5;124mr\u001b[39m\u001b[38;5;124m\"\u001b[39m) \u001b[38;5;28;01mas\u001b[39;00m dog_file:\n\u001b[1;32m      3\u001b[0m     \u001b[38;5;28;01mfor\u001b[39;00m line \u001b[38;5;129;01min\u001b[39;00m dog_file:\n\u001b[0;32m----> 4\u001b[0m         \u001b[38;5;28;01mif\u001b[39;00m n \u001b[38;5;241m==\u001b[39m \u001b[43mline\u001b[49m\u001b[38;5;241;43m.\u001b[39;49m\u001b[43mcontains\u001b[49m(n):\n\u001b[1;32m      5\u001b[0m             \u001b[38;5;28mprint\u001b[39m(\u001b[38;5;124mf\u001b[39m\u001b[38;5;124m\"\u001b[39m\u001b[38;5;132;01m{\u001b[39;00mn\u001b[38;5;132;01m}\u001b[39;00m\u001b[38;5;124m is popular!\u001b[39m\u001b[38;5;124m\"\u001b[39m)\n\u001b[1;32m      6\u001b[0m         \u001b[38;5;28;01melse\u001b[39;00m:\n",
      "\u001b[0;31mAttributeError\u001b[0m: 'str' object has no attribute 'contains'"
     ]
    }
   ],
   "source": [
    "def dog_name(n):\n",
    "    with open(\"popular_dog_names.txt\",\"r\") as dog_file:\n",
    "        for line in dog_file:\n",
    "            if n == line.contains(n):\n",
    "                print(f\"{n} is popular!\")\n",
    "            else:\n",
    "                print(f\"{n} is NOT popular.\")\n",
    "\n",
    "dog_name(\"Spot\")"
   ]
  },
  {
   "cell_type": "code",
   "execution_count": 45,
   "metadata": {},
   "outputs": [],
   "source": [
    "#See screenshot. Looks like he defined each thing between commas as an element of a list that can be indexed ... check it out again. "
   ]
  },
  {
   "cell_type": "markdown",
   "metadata": {
    "slideshow": {
     "slide_type": "slide"
    },
    "tags": []
   },
   "source": [
    "# Modules\n",
    "* Modules are files of python code (functions, classes, etc) whose names end in \".py\"\n",
    "* They are a great mechanism for code re-use\n",
    "* To use a module you must `import` it:"
   ]
  },
  {
   "cell_type": "code",
   "execution_count": 46,
   "metadata": {},
   "outputs": [
    {
     "name": "stdout",
     "output_type": "stream",
     "text": [
      "The cosine of pi is: -1.0\n",
      "Euler's constant e has the following value: 2.718281828459045\n",
      "The sine of pi/4 is: 0.7071067811865475\n"
     ]
    }
   ],
   "source": [
    "# Assume we want to use the cos function from the math module (within Python Standard Library)\n",
    "import math\n",
    "print(f\"The cosine of pi is: {math.cos(math.pi)}\")\n",
    "# Renaming the module name\n",
    "import math as m\n",
    "print(f\"Euler's constant e has the following value: {m.e}\")\n",
    "# We can also proceed as follows (rather dangerous)\n",
    "from math import sin, pi\n",
    "print(f\"The sine of pi/4 is: {sin(pi/4)}\")\n",
    "# And almost never do this:\n",
    "from math import *"
   ]
  },
  {
   "cell_type": "markdown",
   "metadata": {
    "slideshow": {
     "slide_type": "subslide"
    }
   },
   "source": [
    "## Where does python find the modules my code imports?\n",
    "* sys.path - list of directories that are searched for modules\n",
    "* This path is defined when python installed, and is augmented by PYTHONPATH environment variable"
   ]
  },
  {
   "cell_type": "code",
   "execution_count": 7,
   "metadata": {},
   "outputs": [
    {
     "name": "stdout",
     "output_type": "stream",
     "text": [
      "/srv/conda/envs/notebook/lib/python310.zip\n",
      "/srv/conda/envs/notebook/lib/python3.10\n",
      "/srv/conda/envs/notebook/lib/python3.10/lib-dynload\n",
      "\n",
      "/srv/conda/envs/notebook/lib/python3.10/site-packages\n"
     ]
    }
   ],
   "source": [
    "import sys\n",
    "for directory in sys.path:\n",
    "    print(directory)"
   ]
  },
  {
   "cell_type": "markdown",
   "metadata": {
    "slideshow": {
     "slide_type": "subslide"
    },
    "tags": []
   },
   "source": [
    "## The Python Standard Library\n",
    "* Extensive collection of modules that is installed with python\n",
    "* Most commonly used:\n",
    "    * sys, especially sys.argv (the list of command-line arguments)\n",
    "    * os, especially os.path (tools for manipulating file names)\n",
    "    * time (tools for getting and formatting the system time)\n",
    "    * math\n",
    "    * string\n",
    "    * random\n",
    "* Documented here: https://docs.python.org/3/library/index.html"
   ]
  },
  {
   "cell_type": "markdown",
   "metadata": {},
   "source": [
    "**Note:** If that isn't overwhelming enough, take a look at the Python Package Index: https://pypi.org/ .\n",
    "This contains ALL THE FUNCTIONS EVER WRITTEN BY PEOPLE PROGRAMMING WITH PYTHON."
   ]
  },
  {
   "cell_type": "markdown",
   "metadata": {
    "slideshow": {
     "slide_type": "subslide"
    }
   },
   "source": [
    "## What modules are available on my system?\n",
    "<code>\n",
    "help(\"modules\")\n",
    "</code>"
   ]
  },
  {
   "cell_type": "markdown",
   "metadata": {
    "slideshow": {
     "slide_type": "slide"
    }
   },
   "source": [
    "## Module or script?\n",
    "* Is a .py file a **module that I import or a script that I run? It can be both.**\n",
    "* Common practice: include test code in your modules s.t. if the file is executed as a script the test code will run, and if imported the test code will not run.\n",
    "* Has file been executed as script or imported as a module? The `__name__` variable will tell you."
   ]
  },
  {
   "cell_type": "raw",
   "metadata": {},
   "source": [
    "# Example module code:\n",
    "\n",
    "# Function definitions:\n",
    "# Maybe some class definitions:\n",
    "# Yada yada yada:\n",
    "\n",
    "if __name__ == \"__main__\":\n",
    "    # This .py file is getting executed as a script, not imported as a module.\n",
    "    execute_test_code_here() #This is a way to test a script ... but if it's imported, it will not run. "
   ]
  },
  {
   "cell_type": "markdown",
   "metadata": {
    "slideshow": {
     "slide_type": "slide"
    },
    "tags": []
   },
   "source": [
    "# Sets\n",
    "* A set is a collection of **unique** objects.\n",
    "* You can create sets with the **set()** command or with the **\\{** and **\\}** symbols.\n",
    "* You can also do set comprehensions. (similar to the \"list comprehensions\", with a \"for\" loop, which can create the list.)\n",
    "* Sets have all the methods and operators you'd expect: union, intersect, difference, etc. Note, this is probably what is being used in the case of \"we cannot find your login ...\"\n",
    "* More on sets [here](https://docs.python.org/3/tutorial/datastructures.html#sets \"Python Tutorial\") ."
   ]
  },
  {
   "cell_type": "code",
   "execution_count": 3,
   "metadata": {},
   "outputs": [],
   "source": [
    "import random"
   ]
  },
  {
   "cell_type": "code",
   "execution_count": 5,
   "metadata": {},
   "outputs": [
    {
     "name": "stdout",
     "output_type": "stream",
     "text": [
      "Help on module random:\n",
      "\n",
      "NAME\n",
      "    random - Random variable generators.\n",
      "\n",
      "MODULE REFERENCE\n",
      "    https://docs.python.org/3.10/library/random.html\n",
      "    \n",
      "    The following documentation is automatically generated from the Python\n",
      "    source files.  It may be incomplete, incorrect or include features that\n",
      "    are considered implementation detail and may vary between Python\n",
      "    implementations.  When in doubt, consult the module reference at the\n",
      "    location listed above.\n",
      "\n",
      "DESCRIPTION\n",
      "        bytes\n",
      "        -----\n",
      "               uniform bytes (values between 0 and 255)\n",
      "    \n",
      "        integers\n",
      "        --------\n",
      "               uniform within range\n",
      "    \n",
      "        sequences\n",
      "        ---------\n",
      "               pick random element\n",
      "               pick random sample\n",
      "               pick weighted random sample\n",
      "               generate random permutation\n",
      "    \n",
      "        distributions on the real line:\n",
      "        ------------------------------\n",
      "               uniform\n",
      "               triangular\n",
      "               normal (Gaussian)\n",
      "               lognormal\n",
      "               negative exponential\n",
      "               gamma\n",
      "               beta\n",
      "               pareto\n",
      "               Weibull\n",
      "    \n",
      "        distributions on the circle (angles 0 to 2pi)\n",
      "        ---------------------------------------------\n",
      "               circular uniform\n",
      "               von Mises\n",
      "    \n",
      "    General notes on the underlying Mersenne Twister core generator:\n",
      "    \n",
      "    * The period is 2**19937-1.\n",
      "    * It is one of the most extensively tested generators in existence.\n",
      "    * The random() method is implemented in C, executes in a single Python step,\n",
      "      and is, therefore, threadsafe.\n",
      "\n",
      "CLASSES\n",
      "    _random.Random(builtins.object)\n",
      "        Random\n",
      "            SystemRandom\n",
      "    \n",
      "    class Random(_random.Random)\n",
      "     |  Random(x=None)\n",
      "     |  \n",
      "     |  Random number generator base class used by bound module functions.\n",
      "     |  \n",
      "     |  Used to instantiate instances of Random to get generators that don't\n",
      "     |  share state.\n",
      "     |  \n",
      "     |  Class Random can also be subclassed if you want to use a different basic\n",
      "     |  generator of your own devising: in that case, override the following\n",
      "     |  methods:  random(), seed(), getstate(), and setstate().\n",
      "     |  Optionally, implement a getrandbits() method so that randrange()\n",
      "     |  can cover arbitrarily large ranges.\n",
      "     |  \n",
      "     |  Method resolution order:\n",
      "     |      Random\n",
      "     |      _random.Random\n",
      "     |      builtins.object\n",
      "     |  \n",
      "     |  Methods defined here:\n",
      "     |  \n",
      "     |  __getstate__(self)\n",
      "     |      # Issue 17489: Since __reduce__ was defined to fix #759889 this is no\n",
      "     |      # longer called; we leave it here because it has been here since random was\n",
      "     |      # rewritten back in 2001 and why risk breaking something.\n",
      "     |  \n",
      "     |  __init__(self, x=None)\n",
      "     |      Initialize an instance.\n",
      "     |      \n",
      "     |      Optional argument x controls seeding, as for Random.seed().\n",
      "     |  \n",
      "     |  __reduce__(self)\n",
      "     |      Helper for pickle.\n",
      "     |  \n",
      "     |  __setstate__(self, state)\n",
      "     |  \n",
      "     |  betavariate(self, alpha, beta)\n",
      "     |      Beta distribution.\n",
      "     |      \n",
      "     |      Conditions on the parameters are alpha > 0 and beta > 0.\n",
      "     |      Returned values range between 0 and 1.\n",
      "     |  \n",
      "     |  choice(self, seq)\n",
      "     |      Choose a random element from a non-empty sequence.\n",
      "     |  \n",
      "     |  choices(self, population, weights=None, *, cum_weights=None, k=1)\n",
      "     |      Return a k sized list of population elements chosen with replacement.\n",
      "     |      \n",
      "     |      If the relative weights or cumulative weights are not specified,\n",
      "     |      the selections are made with equal probability.\n",
      "     |  \n",
      "     |  expovariate(self, lambd)\n",
      "     |      Exponential distribution.\n",
      "     |      \n",
      "     |      lambd is 1.0 divided by the desired mean.  It should be\n",
      "     |      nonzero.  (The parameter would be called \"lambda\", but that is\n",
      "     |      a reserved word in Python.)  Returned values range from 0 to\n",
      "     |      positive infinity if lambd is positive, and from negative\n",
      "     |      infinity to 0 if lambd is negative.\n",
      "     |  \n",
      "     |  gammavariate(self, alpha, beta)\n",
      "     |      Gamma distribution.  Not the gamma function!\n",
      "     |      \n",
      "     |      Conditions on the parameters are alpha > 0 and beta > 0.\n",
      "     |      \n",
      "     |      The probability distribution function is:\n",
      "     |      \n",
      "     |                  x ** (alpha - 1) * math.exp(-x / beta)\n",
      "     |        pdf(x) =  --------------------------------------\n",
      "     |                    math.gamma(alpha) * beta ** alpha\n",
      "     |  \n",
      "     |  gauss(self, mu, sigma)\n",
      "     |      Gaussian distribution.\n",
      "     |      \n",
      "     |      mu is the mean, and sigma is the standard deviation.  This is\n",
      "     |      slightly faster than the normalvariate() function.\n",
      "     |      \n",
      "     |      Not thread-safe without a lock around calls.\n",
      "     |  \n",
      "     |  getstate(self)\n",
      "     |      Return internal state; can be passed to setstate() later.\n",
      "     |  \n",
      "     |  lognormvariate(self, mu, sigma)\n",
      "     |      Log normal distribution.\n",
      "     |      \n",
      "     |      If you take the natural logarithm of this distribution, you'll get a\n",
      "     |      normal distribution with mean mu and standard deviation sigma.\n",
      "     |      mu can have any value, and sigma must be greater than zero.\n",
      "     |  \n",
      "     |  normalvariate(self, mu, sigma)\n",
      "     |      Normal distribution.\n",
      "     |      \n",
      "     |      mu is the mean, and sigma is the standard deviation.\n",
      "     |  \n",
      "     |  paretovariate(self, alpha)\n",
      "     |      Pareto distribution.  alpha is the shape parameter.\n",
      "     |  \n",
      "     |  randbytes(self, n)\n",
      "     |      Generate n random bytes.\n",
      "     |  \n",
      "     |  randint(self, a, b)\n",
      "     |      Return random integer in range [a, b], including both end points.\n",
      "     |  \n",
      "     |  randrange(self, start, stop=None, step=1)\n",
      "     |      Choose a random item from range(start, stop[, step]).\n",
      "     |      \n",
      "     |      This fixes the problem with randint() which includes the\n",
      "     |      endpoint; in Python this is usually not what you want.\n",
      "     |  \n",
      "     |  sample(self, population, k, *, counts=None)\n",
      "     |      Chooses k unique random elements from a population sequence or set.\n",
      "     |      \n",
      "     |      Returns a new list containing elements from the population while\n",
      "     |      leaving the original population unchanged.  The resulting list is\n",
      "     |      in selection order so that all sub-slices will also be valid random\n",
      "     |      samples.  This allows raffle winners (the sample) to be partitioned\n",
      "     |      into grand prize and second place winners (the subslices).\n",
      "     |      \n",
      "     |      Members of the population need not be hashable or unique.  If the\n",
      "     |      population contains repeats, then each occurrence is a possible\n",
      "     |      selection in the sample.\n",
      "     |      \n",
      "     |      Repeated elements can be specified one at a time or with the optional\n",
      "     |      counts parameter.  For example:\n",
      "     |      \n",
      "     |          sample(['red', 'blue'], counts=[4, 2], k=5)\n",
      "     |      \n",
      "     |      is equivalent to:\n",
      "     |      \n",
      "     |          sample(['red', 'red', 'red', 'red', 'blue', 'blue'], k=5)\n",
      "     |      \n",
      "     |      To choose a sample from a range of integers, use range() for the\n",
      "     |      population argument.  This is especially fast and space efficient\n",
      "     |      for sampling from a large population:\n",
      "     |      \n",
      "     |          sample(range(10000000), 60)\n",
      "     |  \n",
      "     |  seed(self, a=None, version=2)\n",
      "     |      Initialize internal state from a seed.\n",
      "     |      \n",
      "     |      The only supported seed types are None, int, float,\n",
      "     |      str, bytes, and bytearray.\n",
      "     |      \n",
      "     |      None or no argument seeds from current time or from an operating\n",
      "     |      system specific randomness source if available.\n",
      "     |      \n",
      "     |      If *a* is an int, all bits are used.\n",
      "     |      \n",
      "     |      For version 2 (the default), all of the bits are used if *a* is a str,\n",
      "     |      bytes, or bytearray.  For version 1 (provided for reproducing random\n",
      "     |      sequences from older versions of Python), the algorithm for str and\n",
      "     |      bytes generates a narrower range of seeds.\n",
      "     |  \n",
      "     |  setstate(self, state)\n",
      "     |      Restore internal state from object returned by getstate().\n",
      "     |  \n",
      "     |  shuffle(self, x, random=None)\n",
      "     |      Shuffle list x in place, and return None.\n",
      "     |      \n",
      "     |      Optional argument random is a 0-argument function returning a\n",
      "     |      random float in [0.0, 1.0); if it is the default None, the\n",
      "     |      standard random.random will be used.\n",
      "     |  \n",
      "     |  triangular(self, low=0.0, high=1.0, mode=None)\n",
      "     |      Triangular distribution.\n",
      "     |      \n",
      "     |      Continuous distribution bounded by given lower and upper limits,\n",
      "     |      and having a given mode value in-between.\n",
      "     |      \n",
      "     |      http://en.wikipedia.org/wiki/Triangular_distribution\n",
      "     |  \n",
      "     |  uniform(self, a, b)\n",
      "     |      Get a random number in the range [a, b) or [a, b] depending on rounding.\n",
      "     |  \n",
      "     |  vonmisesvariate(self, mu, kappa)\n",
      "     |      Circular data distribution.\n",
      "     |      \n",
      "     |      mu is the mean angle, expressed in radians between 0 and 2*pi, and\n",
      "     |      kappa is the concentration parameter, which must be greater than or\n",
      "     |      equal to zero.  If kappa is equal to zero, this distribution reduces\n",
      "     |      to a uniform random angle over the range 0 to 2*pi.\n",
      "     |  \n",
      "     |  weibullvariate(self, alpha, beta)\n",
      "     |      Weibull distribution.\n",
      "     |      \n",
      "     |      alpha is the scale parameter and beta is the shape parameter.\n",
      "     |  \n",
      "     |  ----------------------------------------------------------------------\n",
      "     |  Class methods defined here:\n",
      "     |  \n",
      "     |  __init_subclass__(**kwargs) from builtins.type\n",
      "     |      Control how subclasses generate random integers.\n",
      "     |      \n",
      "     |      The algorithm a subclass can use depends on the random() and/or\n",
      "     |      getrandbits() implementation available to it and determines\n",
      "     |      whether it can generate random integers from arbitrarily large\n",
      "     |      ranges.\n",
      "     |  \n",
      "     |  ----------------------------------------------------------------------\n",
      "     |  Data descriptors defined here:\n",
      "     |  \n",
      "     |  __dict__\n",
      "     |      dictionary for instance variables (if defined)\n",
      "     |  \n",
      "     |  __weakref__\n",
      "     |      list of weak references to the object (if defined)\n",
      "     |  \n",
      "     |  ----------------------------------------------------------------------\n",
      "     |  Data and other attributes defined here:\n",
      "     |  \n",
      "     |  VERSION = 3\n",
      "     |  \n",
      "     |  ----------------------------------------------------------------------\n",
      "     |  Methods inherited from _random.Random:\n",
      "     |  \n",
      "     |  getrandbits(self, k, /)\n",
      "     |      getrandbits(k) -> x.  Generates an int with k random bits.\n",
      "     |  \n",
      "     |  random(self, /)\n",
      "     |      random() -> x in the interval [0, 1).\n",
      "     |  \n",
      "     |  ----------------------------------------------------------------------\n",
      "     |  Static methods inherited from _random.Random:\n",
      "     |  \n",
      "     |  __new__(*args, **kwargs) from builtins.type\n",
      "     |      Create and return a new object.  See help(type) for accurate signature.\n",
      "    \n",
      "    class SystemRandom(Random)\n",
      "     |  SystemRandom(x=None)\n",
      "     |  \n",
      "     |  Alternate random number generator using sources provided\n",
      "     |  by the operating system (such as /dev/urandom on Unix or\n",
      "     |  CryptGenRandom on Windows).\n",
      "     |  \n",
      "     |   Not available on all systems (see os.urandom() for details).\n",
      "     |  \n",
      "     |  Method resolution order:\n",
      "     |      SystemRandom\n",
      "     |      Random\n",
      "     |      _random.Random\n",
      "     |      builtins.object\n",
      "     |  \n",
      "     |  Methods defined here:\n",
      "     |  \n",
      "     |  getrandbits(self, k)\n",
      "     |      getrandbits(k) -> x.  Generates an int with k random bits.\n",
      "     |  \n",
      "     |  getstate = _notimplemented(self, *args, **kwds)\n",
      "     |  \n",
      "     |  randbytes(self, n)\n",
      "     |      Generate n random bytes.\n",
      "     |  \n",
      "     |  random(self)\n",
      "     |      Get the next random number in the range [0.0, 1.0).\n",
      "     |  \n",
      "     |  seed(self, *args, **kwds)\n",
      "     |      Stub method.  Not used for a system random number generator.\n",
      "     |  \n",
      "     |  setstate = _notimplemented(self, *args, **kwds)\n",
      "     |  \n",
      "     |  ----------------------------------------------------------------------\n",
      "     |  Methods inherited from Random:\n",
      "     |  \n",
      "     |  __getstate__(self)\n",
      "     |      # Issue 17489: Since __reduce__ was defined to fix #759889 this is no\n",
      "     |      # longer called; we leave it here because it has been here since random was\n",
      "     |      # rewritten back in 2001 and why risk breaking something.\n",
      "     |  \n",
      "     |  __init__(self, x=None)\n",
      "     |      Initialize an instance.\n",
      "     |      \n",
      "     |      Optional argument x controls seeding, as for Random.seed().\n",
      "     |  \n",
      "     |  __reduce__(self)\n",
      "     |      Helper for pickle.\n",
      "     |  \n",
      "     |  __setstate__(self, state)\n",
      "     |  \n",
      "     |  betavariate(self, alpha, beta)\n",
      "     |      Beta distribution.\n",
      "     |      \n",
      "     |      Conditions on the parameters are alpha > 0 and beta > 0.\n",
      "     |      Returned values range between 0 and 1.\n",
      "     |  \n",
      "     |  choice(self, seq)\n",
      "     |      Choose a random element from a non-empty sequence.\n",
      "     |  \n",
      "     |  choices(self, population, weights=None, *, cum_weights=None, k=1)\n",
      "     |      Return a k sized list of population elements chosen with replacement.\n",
      "     |      \n",
      "     |      If the relative weights or cumulative weights are not specified,\n",
      "     |      the selections are made with equal probability.\n",
      "     |  \n",
      "     |  expovariate(self, lambd)\n",
      "     |      Exponential distribution.\n",
      "     |      \n",
      "     |      lambd is 1.0 divided by the desired mean.  It should be\n",
      "     |      nonzero.  (The parameter would be called \"lambda\", but that is\n",
      "     |      a reserved word in Python.)  Returned values range from 0 to\n",
      "     |      positive infinity if lambd is positive, and from negative\n",
      "     |      infinity to 0 if lambd is negative.\n",
      "     |  \n",
      "     |  gammavariate(self, alpha, beta)\n",
      "     |      Gamma distribution.  Not the gamma function!\n",
      "     |      \n",
      "     |      Conditions on the parameters are alpha > 0 and beta > 0.\n",
      "     |      \n",
      "     |      The probability distribution function is:\n",
      "     |      \n",
      "     |                  x ** (alpha - 1) * math.exp(-x / beta)\n",
      "     |        pdf(x) =  --------------------------------------\n",
      "     |                    math.gamma(alpha) * beta ** alpha\n",
      "     |  \n",
      "     |  gauss(self, mu, sigma)\n",
      "     |      Gaussian distribution.\n",
      "     |      \n",
      "     |      mu is the mean, and sigma is the standard deviation.  This is\n",
      "     |      slightly faster than the normalvariate() function.\n",
      "     |      \n",
      "     |      Not thread-safe without a lock around calls.\n",
      "     |  \n",
      "     |  lognormvariate(self, mu, sigma)\n",
      "     |      Log normal distribution.\n",
      "     |      \n",
      "     |      If you take the natural logarithm of this distribution, you'll get a\n",
      "     |      normal distribution with mean mu and standard deviation sigma.\n",
      "     |      mu can have any value, and sigma must be greater than zero.\n",
      "     |  \n",
      "     |  normalvariate(self, mu, sigma)\n",
      "     |      Normal distribution.\n",
      "     |      \n",
      "     |      mu is the mean, and sigma is the standard deviation.\n",
      "     |  \n",
      "     |  paretovariate(self, alpha)\n",
      "     |      Pareto distribution.  alpha is the shape parameter.\n",
      "     |  \n",
      "     |  randint(self, a, b)\n",
      "     |      Return random integer in range [a, b], including both end points.\n",
      "     |  \n",
      "     |  randrange(self, start, stop=None, step=1)\n",
      "     |      Choose a random item from range(start, stop[, step]).\n",
      "     |      \n",
      "     |      This fixes the problem with randint() which includes the\n",
      "     |      endpoint; in Python this is usually not what you want.\n",
      "     |  \n",
      "     |  sample(self, population, k, *, counts=None)\n",
      "     |      Chooses k unique random elements from a population sequence or set.\n",
      "     |      \n",
      "     |      Returns a new list containing elements from the population while\n",
      "     |      leaving the original population unchanged.  The resulting list is\n",
      "     |      in selection order so that all sub-slices will also be valid random\n",
      "     |      samples.  This allows raffle winners (the sample) to be partitioned\n",
      "     |      into grand prize and second place winners (the subslices).\n",
      "     |      \n",
      "     |      Members of the population need not be hashable or unique.  If the\n",
      "     |      population contains repeats, then each occurrence is a possible\n",
      "     |      selection in the sample.\n",
      "     |      \n",
      "     |      Repeated elements can be specified one at a time or with the optional\n",
      "     |      counts parameter.  For example:\n",
      "     |      \n",
      "     |          sample(['red', 'blue'], counts=[4, 2], k=5)\n",
      "     |      \n",
      "     |      is equivalent to:\n",
      "     |      \n",
      "     |          sample(['red', 'red', 'red', 'red', 'blue', 'blue'], k=5)\n",
      "     |      \n",
      "     |      To choose a sample from a range of integers, use range() for the\n",
      "     |      population argument.  This is especially fast and space efficient\n",
      "     |      for sampling from a large population:\n",
      "     |      \n",
      "     |          sample(range(10000000), 60)\n",
      "     |  \n",
      "     |  shuffle(self, x, random=None)\n",
      "     |      Shuffle list x in place, and return None.\n",
      "     |      \n",
      "     |      Optional argument random is a 0-argument function returning a\n",
      "     |      random float in [0.0, 1.0); if it is the default None, the\n",
      "     |      standard random.random will be used.\n",
      "     |  \n",
      "     |  triangular(self, low=0.0, high=1.0, mode=None)\n",
      "     |      Triangular distribution.\n",
      "     |      \n",
      "     |      Continuous distribution bounded by given lower and upper limits,\n",
      "     |      and having a given mode value in-between.\n",
      "     |      \n",
      "     |      http://en.wikipedia.org/wiki/Triangular_distribution\n",
      "     |  \n",
      "     |  uniform(self, a, b)\n",
      "     |      Get a random number in the range [a, b) or [a, b] depending on rounding.\n",
      "     |  \n",
      "     |  vonmisesvariate(self, mu, kappa)\n",
      "     |      Circular data distribution.\n",
      "     |      \n",
      "     |      mu is the mean angle, expressed in radians between 0 and 2*pi, and\n",
      "     |      kappa is the concentration parameter, which must be greater than or\n",
      "     |      equal to zero.  If kappa is equal to zero, this distribution reduces\n",
      "     |      to a uniform random angle over the range 0 to 2*pi.\n",
      "     |  \n",
      "     |  weibullvariate(self, alpha, beta)\n",
      "     |      Weibull distribution.\n",
      "     |      \n",
      "     |      alpha is the scale parameter and beta is the shape parameter.\n",
      "     |  \n",
      "     |  ----------------------------------------------------------------------\n",
      "     |  Class methods inherited from Random:\n",
      "     |  \n",
      "     |  __init_subclass__(**kwargs) from builtins.type\n",
      "     |      Control how subclasses generate random integers.\n",
      "     |      \n",
      "     |      The algorithm a subclass can use depends on the random() and/or\n",
      "     |      getrandbits() implementation available to it and determines\n",
      "     |      whether it can generate random integers from arbitrarily large\n",
      "     |      ranges.\n",
      "     |  \n",
      "     |  ----------------------------------------------------------------------\n",
      "     |  Data descriptors inherited from Random:\n",
      "     |  \n",
      "     |  __dict__\n",
      "     |      dictionary for instance variables (if defined)\n",
      "     |  \n",
      "     |  __weakref__\n",
      "     |      list of weak references to the object (if defined)\n",
      "     |  \n",
      "     |  ----------------------------------------------------------------------\n",
      "     |  Data and other attributes inherited from Random:\n",
      "     |  \n",
      "     |  VERSION = 3\n",
      "     |  \n",
      "     |  ----------------------------------------------------------------------\n",
      "     |  Static methods inherited from _random.Random:\n",
      "     |  \n",
      "     |  __new__(*args, **kwargs) from builtins.type\n",
      "     |      Create and return a new object.  See help(type) for accurate signature.\n",
      "\n",
      "FUNCTIONS\n",
      "    betavariate(alpha, beta) method of Random instance\n",
      "        Beta distribution.\n",
      "        \n",
      "        Conditions on the parameters are alpha > 0 and beta > 0.\n",
      "        Returned values range between 0 and 1.\n",
      "    \n",
      "    choice(seq) method of Random instance\n",
      "        Choose a random element from a non-empty sequence.\n",
      "    \n",
      "    choices(population, weights=None, *, cum_weights=None, k=1) method of Random instance\n",
      "        Return a k sized list of population elements chosen with replacement.\n",
      "        \n",
      "        If the relative weights or cumulative weights are not specified,\n",
      "        the selections are made with equal probability.\n",
      "    \n",
      "    expovariate(lambd) method of Random instance\n",
      "        Exponential distribution.\n",
      "        \n",
      "        lambd is 1.0 divided by the desired mean.  It should be\n",
      "        nonzero.  (The parameter would be called \"lambda\", but that is\n",
      "        a reserved word in Python.)  Returned values range from 0 to\n",
      "        positive infinity if lambd is positive, and from negative\n",
      "        infinity to 0 if lambd is negative.\n",
      "    \n",
      "    gammavariate(alpha, beta) method of Random instance\n",
      "        Gamma distribution.  Not the gamma function!\n",
      "        \n",
      "        Conditions on the parameters are alpha > 0 and beta > 0.\n",
      "        \n",
      "        The probability distribution function is:\n",
      "        \n",
      "                    x ** (alpha - 1) * math.exp(-x / beta)\n",
      "          pdf(x) =  --------------------------------------\n",
      "                      math.gamma(alpha) * beta ** alpha\n",
      "    \n",
      "    gauss(mu, sigma) method of Random instance\n",
      "        Gaussian distribution.\n",
      "        \n",
      "        mu is the mean, and sigma is the standard deviation.  This is\n",
      "        slightly faster than the normalvariate() function.\n",
      "        \n",
      "        Not thread-safe without a lock around calls.\n",
      "    \n",
      "    getrandbits(k, /) method of Random instance\n",
      "        getrandbits(k) -> x.  Generates an int with k random bits.\n",
      "    \n",
      "    getstate() method of Random instance\n",
      "        Return internal state; can be passed to setstate() later.\n",
      "    \n",
      "    lognormvariate(mu, sigma) method of Random instance\n",
      "        Log normal distribution.\n",
      "        \n",
      "        If you take the natural logarithm of this distribution, you'll get a\n",
      "        normal distribution with mean mu and standard deviation sigma.\n",
      "        mu can have any value, and sigma must be greater than zero.\n",
      "    \n",
      "    normalvariate(mu, sigma) method of Random instance\n",
      "        Normal distribution.\n",
      "        \n",
      "        mu is the mean, and sigma is the standard deviation.\n",
      "    \n",
      "    paretovariate(alpha) method of Random instance\n",
      "        Pareto distribution.  alpha is the shape parameter.\n",
      "    \n",
      "    randbytes(n) method of Random instance\n",
      "        Generate n random bytes.\n",
      "    \n",
      "    randint(a, b) method of Random instance\n",
      "        Return random integer in range [a, b], including both end points.\n",
      "    \n",
      "    random() method of Random instance\n",
      "        random() -> x in the interval [0, 1).\n",
      "    \n",
      "    randrange(start, stop=None, step=1) method of Random instance\n",
      "        Choose a random item from range(start, stop[, step]).\n",
      "        \n",
      "        This fixes the problem with randint() which includes the\n",
      "        endpoint; in Python this is usually not what you want.\n",
      "    \n",
      "    sample(population, k, *, counts=None) method of Random instance\n",
      "        Chooses k unique random elements from a population sequence or set.\n",
      "        \n",
      "        Returns a new list containing elements from the population while\n",
      "        leaving the original population unchanged.  The resulting list is\n",
      "        in selection order so that all sub-slices will also be valid random\n",
      "        samples.  This allows raffle winners (the sample) to be partitioned\n",
      "        into grand prize and second place winners (the subslices).\n",
      "        \n",
      "        Members of the population need not be hashable or unique.  If the\n",
      "        population contains repeats, then each occurrence is a possible\n",
      "        selection in the sample.\n",
      "        \n",
      "        Repeated elements can be specified one at a time or with the optional\n",
      "        counts parameter.  For example:\n",
      "        \n",
      "            sample(['red', 'blue'], counts=[4, 2], k=5)\n",
      "        \n",
      "        is equivalent to:\n",
      "        \n",
      "            sample(['red', 'red', 'red', 'red', 'blue', 'blue'], k=5)\n",
      "        \n",
      "        To choose a sample from a range of integers, use range() for the\n",
      "        population argument.  This is especially fast and space efficient\n",
      "        for sampling from a large population:\n",
      "        \n",
      "            sample(range(10000000), 60)\n",
      "    \n",
      "    seed(a=None, version=2) method of Random instance\n",
      "        Initialize internal state from a seed.\n",
      "        \n",
      "        The only supported seed types are None, int, float,\n",
      "        str, bytes, and bytearray.\n",
      "        \n",
      "        None or no argument seeds from current time or from an operating\n",
      "        system specific randomness source if available.\n",
      "        \n",
      "        If *a* is an int, all bits are used.\n",
      "        \n",
      "        For version 2 (the default), all of the bits are used if *a* is a str,\n",
      "        bytes, or bytearray.  For version 1 (provided for reproducing random\n",
      "        sequences from older versions of Python), the algorithm for str and\n",
      "        bytes generates a narrower range of seeds.\n",
      "    \n",
      "    setstate(state) method of Random instance\n",
      "        Restore internal state from object returned by getstate().\n",
      "    \n",
      "    shuffle(x, random=None) method of Random instance\n",
      "        Shuffle list x in place, and return None.\n",
      "        \n",
      "        Optional argument random is a 0-argument function returning a\n",
      "        random float in [0.0, 1.0); if it is the default None, the\n",
      "        standard random.random will be used.\n",
      "    \n",
      "    triangular(low=0.0, high=1.0, mode=None) method of Random instance\n",
      "        Triangular distribution.\n",
      "        \n",
      "        Continuous distribution bounded by given lower and upper limits,\n",
      "        and having a given mode value in-between.\n",
      "        \n",
      "        http://en.wikipedia.org/wiki/Triangular_distribution\n",
      "    \n",
      "    uniform(a, b) method of Random instance\n",
      "        Get a random number in the range [a, b) or [a, b] depending on rounding.\n",
      "    \n",
      "    vonmisesvariate(mu, kappa) method of Random instance\n",
      "        Circular data distribution.\n",
      "        \n",
      "        mu is the mean angle, expressed in radians between 0 and 2*pi, and\n",
      "        kappa is the concentration parameter, which must be greater than or\n",
      "        equal to zero.  If kappa is equal to zero, this distribution reduces\n",
      "        to a uniform random angle over the range 0 to 2*pi.\n",
      "    \n",
      "    weibullvariate(alpha, beta) method of Random instance\n",
      "        Weibull distribution.\n",
      "        \n",
      "        alpha is the scale parameter and beta is the shape parameter.\n",
      "\n",
      "DATA\n",
      "    __all__ = ['Random', 'SystemRandom', 'betavariate', 'choice', 'choices...\n",
      "\n",
      "FILE\n",
      "    /srv/conda/envs/notebook/lib/python3.10/random.py\n",
      "\n",
      "\n"
     ]
    }
   ],
   "source": [
    "help(random)"
   ]
  },
  {
   "cell_type": "code",
   "execution_count": 4,
   "metadata": {},
   "outputs": [],
   "source": [
    "import string"
   ]
  },
  {
   "cell_type": "code",
   "execution_count": 8,
   "metadata": {},
   "outputs": [
    {
     "name": "stdout",
     "output_type": "stream",
     "text": [
      "The random_letters set contains 15 unique letters.\n",
      "random_letters contains these vowels: {'i', 'o', 'a'}.\n",
      "random_letters contains these consonants: {'g', 'f', 'p', 'q', 'l', 's', 'n', 'w', 't', 'y', 'b', 'x'}.\n"
     ]
    }
   ],
   "source": [
    "vowels = set(['a', 'e', 'i', 'o', 'u'])\n",
    "import random, string #these are modules\n",
    "# What does this next line do?\n",
    "random_letters = { random.choice( string.ascii_lowercase) for i in range(20) }\n",
    "print( f\"The random_letters set contains {len(random_letters)} unique letters.\")\n",
    "print( f\"random_letters contains these vowels: {random_letters.intersection(vowels)}.\")\n",
    "print( f\"random_letters contains these consonants: {random_letters.difference(vowels)}.\")"
   ]
  },
  {
   "cell_type": "markdown",
   "metadata": {
    "slideshow": {
     "slide_type": "slide"
    },
    "tags": []
   },
   "source": [
    "## Exercise: Password generator\n",
    "Write a function named random_password() that uses the string and random modules, and returns a string of 10 random letters, numbers, and symbols. If you want to get fancy, you could give your function an optional password length argument."
   ]
  },
  {
   "cell_type": "code",
   "execution_count": null,
   "metadata": {},
   "outputs": [],
   "source": []
  },
  {
   "cell_type": "code",
   "execution_count": null,
   "metadata": {},
   "outputs": [],
   "source": []
  },
  {
   "cell_type": "markdown",
   "metadata": {},
   "source": [
    "**Extra credit!** Make a copy of your original random_password() function, and rewrite it to make it as compact as you can. Check its performance against the original version using the **%timeit** feature ([described on this page](https://ipython.readthedocs.io/en/stable/interactive/magics.html#line-magics)) of Jupyter Notebook. Does your compact code run any faster?"
   ]
  },
  {
   "cell_type": "markdown",
   "metadata": {
    "slideshow": {
     "slide_type": "slide"
    }
   },
   "source": [
    "# Tuples\n",
    "* Tuples are immutable ordered collections of objects\n",
    "* Tuples are FAST but inflexible; lists are flexible but not FAST.\n",
    "* The objects can be of various types\n",
    "* You can create them with the **\\(** and **\\)** symbols, or with the tuple() command\n",
    "* Tuples are sequences, so we can\n",
    "   * iterate through them with a \"for\" loop\n",
    "   * access elements by index"
   ]
  },
  {
   "cell_type": "code",
   "execution_count": 10,
   "metadata": {},
   "outputs": [
    {
     "name": "stdout",
     "output_type": "stream",
     "text": [
      "Day 6 is sun\n"
     ]
    },
    {
     "ename": "TypeError",
     "evalue": "'tuple' object does not support item assignment",
     "output_type": "error",
     "traceback": [
      "\u001b[0;31m---------------------------------------------------------------------------\u001b[0m",
      "\u001b[0;31mTypeError\u001b[0m                                 Traceback (most recent call last)",
      "Cell \u001b[0;32mIn[10], line 3\u001b[0m\n\u001b[1;32m      1\u001b[0m days_of_the_week\u001b[38;5;241m=\u001b[39m(\u001b[38;5;124m'\u001b[39m\u001b[38;5;124mmon\u001b[39m\u001b[38;5;124m'\u001b[39m,\u001b[38;5;124m'\u001b[39m\u001b[38;5;124mtue\u001b[39m\u001b[38;5;124m'\u001b[39m,\u001b[38;5;124m'\u001b[39m\u001b[38;5;124mwed\u001b[39m\u001b[38;5;124m'\u001b[39m,\u001b[38;5;124m'\u001b[39m\u001b[38;5;124mthur\u001b[39m\u001b[38;5;124m'\u001b[39m,\u001b[38;5;124m'\u001b[39m\u001b[38;5;124mfri\u001b[39m\u001b[38;5;124m'\u001b[39m,\u001b[38;5;124m'\u001b[39m\u001b[38;5;124msat\u001b[39m\u001b[38;5;124m'\u001b[39m,\u001b[38;5;124m'\u001b[39m\u001b[38;5;124msun\u001b[39m\u001b[38;5;124m'\u001b[39m)\n\u001b[1;32m      2\u001b[0m \u001b[38;5;28mprint\u001b[39m(\u001b[38;5;124mf\u001b[39m\u001b[38;5;124m\"\u001b[39m\u001b[38;5;124mDay 6 is \u001b[39m\u001b[38;5;132;01m{\u001b[39;00mdays_of_the_week[\u001b[38;5;241m6\u001b[39m]\u001b[38;5;132;01m}\u001b[39;00m\u001b[38;5;124m\"\u001b[39m)\n\u001b[0;32m----> 3\u001b[0m \u001b[43mdays_of_the_week\u001b[49m\u001b[43m[\u001b[49m\u001b[38;5;241;43m2\u001b[39;49m\u001b[43m]\u001b[49m\u001b[38;5;241m=\u001b[39m\u001b[38;5;124m'\u001b[39m\u001b[38;5;124mhump_day\u001b[39m\u001b[38;5;124m'\u001b[39m \u001b[38;5;66;03m#This will not work because tuples are IMMUTABLE. \u001b[39;00m\n",
      "\u001b[0;31mTypeError\u001b[0m: 'tuple' object does not support item assignment"
     ]
    }
   ],
   "source": [
    "days_of_the_week=('mon','tue','wed','thur','fri','sat','sun')\n",
    "print(f\"Day 6 is {days_of_the_week[6]}\")\n",
    "days_of_the_week[2]='hump_day' #This will not work because tuples are IMMUTABLE. "
   ]
  },
  {
   "cell_type": "markdown",
   "metadata": {},
   "source": [
    "These are handy for returning multiple values from a function: `return ( mean + sd, mean - sd )`\n",
    "\n",
    "One oddity about tuple syntax: a tuple with a single element must be defined using a comma, for example `( 5, )` . The expression `( 5 )` is the same as `5`, whereas `( 5, )` is a tuple with the single element 5."
   ]
  },
  {
   "cell_type": "markdown",
   "metadata": {
    "slideshow": {
     "slide_type": "slide"
    }
   },
   "source": [
    "# Dictionaries\n",
    "* A dictionary (also known as a \"hash\" or \"associative array\") is a collection of key:value pairs. \n",
    "* You can create dictionaries with the **dict()** command or with key:value pairs between the **\\{** and **\\}** symbols.\n",
    "* The keys must be unique, and must belong to an immutable data type, for example strings, numbers, tuples, or frozen data classes.\n",
    "* The values can be of any type.\n",
    "* The lookup on a key is **extremely** fast."
   ]
  },
  {
   "cell_type": "code",
   "execution_count": 12,
   "metadata": {},
   "outputs": [
    {
     "name": "stdout",
     "output_type": "stream",
     "text": [
      "The element whose symbol is H is hydrogen.\n",
      "Does the dictionary include carbon? False .\n",
      "Here are the symbols: ['H', 'He', 'Li', 'Be', 'B']\n",
      "The element name for symbol 'Po' is: unknown.\n"
     ]
    }
   ],
   "source": [
    "elements = { 'H':'hydrogen', 'He':'helium', 'Li':'lithium', 'Be':'berylium'}\n",
    "elements['B'] = 'boron'\n",
    "print( f\"The element whose symbol is H is {elements['H']}.\")\n",
    "print( f\"Does the dictionary include carbon? {'C' in elements} .\")\n",
    "print( \"Here are the symbols:\", list(elements.keys()) )\n",
    "print( f\"The element name for symbol 'Po' is: {elements.get('Po','unknown')}.\") #Get is really useful, especially if there's an unknown factor."
   ]
  },
  {
   "cell_type": "markdown",
   "metadata": {
    "slideshow": {
     "slide_type": "subslide"
    }
   },
   "source": [
    "## More dictionaries"
   ]
  },
  {
   "cell_type": "code",
   "execution_count": 14,
   "metadata": {},
   "outputs": [
    {
     "ename": "KeyError",
     "evalue": "'N'",
     "output_type": "error",
     "traceback": [
      "\u001b[0;31m---------------------------------------------------------------------------\u001b[0m",
      "\u001b[0;31mKeyError\u001b[0m                                  Traceback (most recent call last)",
      "Cell \u001b[0;32mIn[14], line 1\u001b[0m\n\u001b[0;32m----> 1\u001b[0m \u001b[38;5;28mprint\u001b[39m( \u001b[38;5;124mf\u001b[39m\u001b[38;5;124m\"\u001b[39m\u001b[38;5;124mThe element whose symbol is N is \u001b[39m\u001b[38;5;132;01m{\u001b[39;00m\u001b[43melements\u001b[49m\u001b[43m[\u001b[49m\u001b[38;5;124;43m'\u001b[39;49m\u001b[38;5;124;43mN\u001b[39;49m\u001b[38;5;124;43m'\u001b[39;49m\u001b[43m]\u001b[49m\u001b[38;5;132;01m}\u001b[39;00m\u001b[38;5;124m.\u001b[39m\u001b[38;5;124m\"\u001b[39m)\n",
      "\u001b[0;31mKeyError\u001b[0m: 'N'"
     ]
    }
   ],
   "source": [
    "print( f\"The element whose symbol is N is {elements['N']}.\")"
   ]
  },
  {
   "cell_type": "markdown",
   "metadata": {},
   "source": [
    "An attempt to access a missing key generates a KeyError exception. We'll learn about exception handling next.<br>\n",
    "For more on dictionaries see the [Python Tutorial](https://docs.python.org/3/tutorial/datastructures.html#dictionaries \"Python Tutorial\") ."
   ]
  },
  {
   "cell_type": "markdown",
   "metadata": {
    "slideshow": {
     "slide_type": "slide"
    }
   },
   "source": [
    "## Exercise: Improved Hello World function"
   ]
  },
  {
   "cell_type": "code",
   "execution_count": 26,
   "metadata": {},
   "outputs": [
    {
     "name": "stdout",
     "output_type": "stream",
     "text": [
      "Sorry, I don't speak Japanese\n"
     ]
    }
   ],
   "source": [
    "# Revise this hello_world function so that it can greet you in several different languages. \n",
    "# Your function must accept one argument, which is the name of the language to use for the \n",
    "# greeting, and that argument should default to some language if no value is given. \n",
    "# Hint: this is a nice use case for a dictionary.\n",
    "def hello_world(language='English'):\n",
    "    greetings = {'English':'Hello, world!', 'French':'Bounjour, la monde!', 'Spanish':'Hola, mundo!'} #python says to itself, \"if English in the above line is a LANGUAGE, then all the keys in this dictionary are also LANGUAGES.\n",
    "    if language in greetings:\n",
    "        print(greetings[language])\n",
    "    else: \n",
    "        print(\"Sorry, I don't speak\", language)\n",
    "hello_world('Japanese')"
   ]
  },
  {
   "cell_type": "markdown",
   "metadata": {
    "slideshow": {
     "slide_type": "slide"
    }
   },
   "source": [
    "## Exercise: Bioinformatics! DNA to protein translation\n",
    "This exercise puts it all together: functions, strings, modules, and dictionaries. <br>\n",
    "The [genetic code](https://en.wikipedia.org/wiki/Genetic_code \"Wikipedia\") provides a mapping from the 4-letter alphabet of DNA (A, C, G, and T) to the 20-letter code of amino acids, that make up proteins. Three consecutive DNA \"letters\", called a codon, maps onto a single amino acid letter. For example, the DNA string \"ATG\" maps onto the amino acid letter \"M\". Using the provided module \"geneticcode.py\" which defines the genetic code as a dictionary named \"codons\", write a function that translates a DNA string to its amino acid sequence."
   ]
  },
  {
   "cell_type": "code",
   "execution_count": null,
   "metadata": {},
   "outputs": [],
   "source": [
    "# Here's a DNA sequence to translate:\n",
    "dna_sequence = \"ATGGAGGAGCCGCAGTCAGATCCTAGCGTCGAGCCC\"\n",
    "# Write a function that translates this into an amino acid sequence using the codons dictionary from the \n",
    "# geneticcode module and call your function with this sequence. This 36-letter DNA sequence should translate\n",
    "# into a 12-letter amino acid sequence."
   ]
  },
  {
   "cell_type": "code",
   "execution_count": null,
   "metadata": {},
   "outputs": [],
   "source": []
  },
  {
   "cell_type": "markdown",
   "metadata": {
    "slideshow": {
     "slide_type": "slide"
    },
    "tags": []
   },
   "source": [
    "# Exceptions\n",
    "When something goes wrong, python \"raises\" an exception object."
   ]
  },
  {
   "cell_type": "code",
   "execution_count": 27,
   "metadata": {},
   "outputs": [
    {
     "data": {
      "text/plain": [
       "{'H': 'hydrogen', 'He': 'helium', 'Li': 'lithium', 'Be': 'berylium'}"
      ]
     },
     "execution_count": 27,
     "metadata": {},
     "output_type": "execute_result"
    }
   ],
   "source": [
    "elements = { 'H':'hydrogen', 'He':'helium', 'Li':'lithium', 'Be':'berylium'}\n",
    "elements"
   ]
  },
  {
   "cell_type": "code",
   "execution_count": 28,
   "metadata": {},
   "outputs": [
    {
     "name": "stdout",
     "output_type": "stream",
     "text": [
      "The name of element H is hydrogen.\n"
     ]
    },
    {
     "ename": "KeyError",
     "evalue": "'S'",
     "output_type": "error",
     "traceback": [
      "\u001b[0;31m---------------------------------------------------------------------------\u001b[0m",
      "\u001b[0;31mKeyError\u001b[0m                                  Traceback (most recent call last)",
      "Cell \u001b[0;32mIn[28], line 3\u001b[0m\n\u001b[1;32m      1\u001b[0m \u001b[38;5;66;03m# Depending on the value of 'symbol' this code might raise an exception:\u001b[39;00m\n\u001b[1;32m      2\u001b[0m \u001b[38;5;28;01mfor\u001b[39;00m symbol \u001b[38;5;129;01min\u001b[39;00m (\u001b[38;5;124m'\u001b[39m\u001b[38;5;124mH\u001b[39m\u001b[38;5;124m'\u001b[39m, \u001b[38;5;124m'\u001b[39m\u001b[38;5;124mS\u001b[39m\u001b[38;5;124m'\u001b[39m):\n\u001b[0;32m----> 3\u001b[0m     \u001b[38;5;28mprint\u001b[39m(\u001b[38;5;124mf\u001b[39m\u001b[38;5;124m\"\u001b[39m\u001b[38;5;124mThe name of element \u001b[39m\u001b[38;5;132;01m{\u001b[39;00msymbol\u001b[38;5;132;01m}\u001b[39;00m\u001b[38;5;124m is \u001b[39m\u001b[38;5;132;01m{\u001b[39;00m\u001b[43melements\u001b[49m\u001b[43m[\u001b[49m\u001b[43msymbol\u001b[49m\u001b[43m]\u001b[49m\u001b[38;5;132;01m}\u001b[39;00m\u001b[38;5;124m.\u001b[39m\u001b[38;5;124m\"\u001b[39m)\n",
      "\u001b[0;31mKeyError\u001b[0m: 'S'"
     ]
    }
   ],
   "source": [
    "# Depending on the value of 'symbol' this code might raise an exception:\n",
    "for symbol in ('H', 'S'):\n",
    "    print(f\"The name of element {symbol} is {elements[symbol]}.\")"
   ]
  },
  {
   "cell_type": "code",
   "execution_count": 30,
   "metadata": {},
   "outputs": [
    {
     "name": "stdout",
     "output_type": "stream",
     "text": [
      "The name of element H is hydrogen.\n",
      "Symbol S not found in elements dictionary!\n"
     ]
    }
   ],
   "source": [
    "# Rather than testing \"if symbol in elements\", just wrap the code in a try / except statement:\n",
    "for symbol in ('H', 'S'):\n",
    "    try:\n",
    "        print(f\"The name of element {symbol} is {elements[symbol]}.\") #This is just one line, but but there's lots of exceptions that could go in here, over multiple lines.\n",
    "    except KeyError:\n",
    "        print( f\"Symbol {symbol} not found in elements dictionary!\")\n",
    "    except IndexError:\n",
    "        print(\"Something bad happened\")\n",
    "    except FileNotFoundException:\n",
    "        print(\"Something even worse happened\")"
   ]
  },
  {
   "cell_type": "markdown",
   "metadata": {
    "slideshow": {
     "slide_type": "subslide"
    }
   },
   "source": [
    "## More exceptions\n",
    "Python defines [lots of exceptions](https://docs.python.org/3/library/exceptions.html), but you may not know what kind of exception to handle, so you can do it \"generically\":"
   ]
  },
  {
   "cell_type": "code",
   "execution_count": 32,
   "metadata": {},
   "outputs": [
    {
     "name": "stdout",
     "output_type": "stream",
     "text": [
      "Whoa, just caught unexpected exception: <class 'ZeroDivisionError'>,'division by zero'!\n"
     ]
    }
   ],
   "source": [
    "try:\n",
    "    quotient = 17 / 0\n",
    "except Exception as e:\n",
    "    print(f\"Whoa, just caught unexpected exception: {type(e)},'{e}'!\")"
   ]
  },
  {
   "cell_type": "markdown",
   "metadata": {},
   "source": [
    "You can also define your own custom exceptions - more on that later."
   ]
  },
  {
   "cell_type": "markdown",
   "metadata": {
    "slideshow": {
     "slide_type": "slide"
    },
    "tags": []
   },
   "source": [
    "# Classes (related to OOP)\n",
    "\n",
    "* A class is the definition of a data type.\n",
    "* **Every** object in Python belongs to a class.\n",
    "* Each class is a collection of data values and methods.\n",
    "* A single object that belongs to a class is an 'instance' of that class.\n",
    "* Classes provide:\n",
    "  * **a namespace inside which your code is isolated from outside complexity, like a \"bubble\"**\n",
    "  * a mechanism for code reuse through **inheritance** (more on this later)"
   ]
  },
  {
   "cell_type": "markdown",
   "metadata": {
    "jp-MarkdownHeadingCollapsed": true,
    "tags": []
   },
   "source": [
    "## Creating new instances of a class\n",
    "When a class is defined, python creates a function with the same name as the class, and that function creates new objects belonging to that class. For example the function **list()** creates new list objects.  \n",
    "Typically the arguments to that function provide the data that is stored within the new object. **Initializing** the new object with that data is handled by a special method named **\\_\\_init\\_\\_()**, or \"dunder\" (for double underscore) init.\n",
    "\n",
    "When we write the code for our own classes we need to provide that **\\_\\_init\\_\\_()** method to do the initialization, and it looks like this:"
   ]
  },
  {
   "cell_type": "markdown",
   "metadata": {
    "slideshow": {
     "slide_type": "subslide"
    }
   },
   "source": [
    "## Class example\n",
    "Let's write a simple class that represents a person:"
   ]
  },
  {
   "cell_type": "code",
   "execution_count": 34,
   "metadata": {},
   "outputs": [
    {
     "name": "stdout",
     "output_type": "stream",
     "text": [
      "Brett\n",
      "<class '__main__.Person'>\n",
      "<__main__.Person object at 0x7f31344aae90>\n"
     ]
    }
   ],
   "source": [
    "class Person:\n",
    "    \"This class represents a person. (This is the docstring for the whole class.)\"\n",
    "    def __init__(self,first_name,last_name,year_of_birth): #self is conventionally the initial argument. it's a variable referring to the object being created.\n",
    "        \"Initialization method of the class Person, a very common init sequence. (This is the docstring for this method.)\"\n",
    "        self.fname = first_name\n",
    "        self.lname = last_name\n",
    "        self.year_born = year_of_birth\n",
    "\"This class definition is DONE!\"\n",
    "\n",
    "p = Person(\"Brett\",\"Milash\",1962) # Creating an instance of class (or OBJECT) Person by calling the Person() function. p refers to this new person object.\n",
    "print(p.fname)\n",
    "print(type(p))\n",
    "print(p)"
   ]
  },
  {
   "cell_type": "markdown",
   "metadata": {},
   "source": [
    "Note the first argument to the **\\_\\_init\\_\\_()** method: self. Every method will have an argument like this, and that argument refers to the object that is getting initialized or otherwise operated on by the method."
   ]
  },
  {
   "cell_type": "markdown",
   "metadata": {
    "slideshow": {
     "slide_type": "subslide"
    },
    "tags": []
   },
   "source": [
    "## Special class methods\n",
    "Objects have a variety of special methods that are called behind the scenes:\n",
    "* `__init__()`: class constructor, or initializer\n",
    "* `__str__()`: provides string representation of object, used when printing an object\n",
    "* `__lt__()`: required for the < operator, used when comparing objects for sorting\n",
    "* `__add__()`: required for the + operator\n",
    "* `__del__()`: class deconstructor. Called during garbage collection, or at 'del *variable*'\n",
    "* `__enter__()`: Context manager enter function, used by **with** statement\n",
    "* `__exit__()`: Conect manager exit function, used by **with** statement\n",
    "* `__iter__()`: Required for an object to be an **iterator** \"for\" loops are using these objects behind their own scenes!\n",
    "* `__next__()`: Required for an object to be an **iterator**\n",
    "\n",
    "`__enter__` and `__exit__` are not provided - you need to write these if you intend to use your object in a **with** statement.  \n",
    "`__iter__` and `__next__` are not provided - you must write these if you intend to use your object as an **iterator**.\n",
    "\n",
    "These methods are all detailed here: https://docs.python.org/3.7/reference/datamodel.html#special-method-names\n",
    "\n",
    "Lets improve on our Person class:"
   ]
  },
  {
   "cell_type": "code",
   "execution_count": 38,
   "metadata": {
    "scrolled": true,
    "slideshow": {
     "slide_type": "subslide"
    }
   },
   "outputs": [
    {
     "name": "stdout",
     "output_type": "stream",
     "text": [
      "Bowie, David: born 1947, age 77 years\n",
      "Pop, Iggy: born 1947, age 77 years\n",
      "Reed, Lou: born 1942, age 82 years\n"
     ]
    }
   ],
   "source": [
    "import time\n",
    "\n",
    "class Person:\n",
    "    \"Here's an improved Person example.\"\n",
    "    def __init__(self,first_name,last_name,year_of_birth):\n",
    "        \"Constructor method of the class Person. (This is the docstring for this method.)\"\n",
    "        self.fname = first_name\n",
    "        self.lname = last_name\n",
    "        self.year_born = year_of_birth #All from previous example ^^^\n",
    "\n",
    "    def __str__(self):\n",
    "        \"Returns the string representation of the object\"\n",
    "        return f\"{self.lname}, {self.fname}: born {self.year_born}\" #better when printed out\n",
    "\n",
    "    def __lt__(self,other):\n",
    "        \"Used to compare this Person object with another Person object for sorting.\"\n",
    "        return self.lname < other.lname #better: sorted\n",
    "    \n",
    "    def age(self):\n",
    "        \"Returns person's (approximate) age in years\"\n",
    "        # Calculate the current year.\n",
    "        current_year= time.localtime( time.time() ).tm_year\n",
    "        # Calculate this person's age by subtracting the year they were born from\n",
    "        # the current year. (Not exactly right, but close enough for our purposes.)\n",
    "        return current_year - self.year_born #better: gives their age given the year they were born\n",
    "\n",
    "rockstars = [ Person(\"Lou\",\"Reed\",1942), Person(\"Iggy\",\"Pop\",1947), Person(\"David\",\"Bowie\",1947) ]\n",
    "rockstars.sort()\n",
    "for musician in rockstars:\n",
    "    print(f\"{musician}, age {musician.age()} years\")"
   ]
  },
  {
   "cell_type": "markdown",
   "metadata": {
    "slideshow": {
     "slide_type": "subslide"
    }
   },
   "source": [
    "# Inheritance\n",
    "- Inheritance lets you create a new class using an existing class as a foundation.\n",
    "- The new class \"inherits\" data and methods from the existing class.\n",
    "- This new class is a \"child\" class derived from a \"parent\" class.\n",
    "- Parent classes are also called \"base\" classes or \"super\" classes.\n",
    "- You can add or replace methods and data values of the parent class in the child class.\n",
    "- A child class can be derived from one (single inheritance) or several (multiple inheritance) base classes."
   ]
  },
  {
   "cell_type": "markdown",
   "metadata": {
    "slideshow": {
     "slide_type": "subslide"
    }
   },
   "source": [
    "## Inheritance example"
   ]
  },
  {
   "cell_type": "code",
   "execution_count": 39,
   "metadata": {
    "scrolled": true
   },
   "outputs": [
    {
     "name": "stdout",
     "output_type": "stream",
     "text": [
      "Pythoncoder, Alice: born 2001, GPA 4.0\n",
      "Alice is 23 years old.\n"
     ]
    }
   ],
   "source": [
    "class Student(Person): #Ah, this sort of relates to my question above about \"musician\" vs \"Person\"\n",
    "    \"A Student is a Person with a GPA.\"\n",
    "    def __init__(self,first_name,last_name,year_of_birth,grade_point_average):\n",
    "        # Call the parent class constructor.\n",
    "        Person.__init__(self,first_name,last_name,year_of_birth) #passing from parent class to child class. it's a Person object.\n",
    "        # You can also do it like this:\n",
    "        # super().__init__(first_name,last_name,year_of_birth)\n",
    "        self.gpa = grade_point_average\n",
    "\n",
    "    def __str__(self):\n",
    "        return f\"{self.lname}, {self.fname}: born {self.year_born}, GPA {self.gpa}\"\n",
    "\n",
    "s = Student(\"Alice\",\"Pythoncoder\",2001,4.0)\n",
    "print(s)\n",
    "print(f\"{s.fname} is {s.age()} years old.\")"
   ]
  },
  {
   "cell_type": "markdown",
   "metadata": {},
   "source": [
    "Notice that the Student class definition replaces only the base class (Person) methods that need to be modified.  \n",
    "Also notice that Student class objects have an age() method - where does that come from?"
   ]
  },
  {
   "cell_type": "markdown",
   "metadata": {},
   "source": [
    "## Other uses for inheritance\n",
    "Besides creating new classes from our own base classes, inheritance is essential in some other situations:"
   ]
  },
  {
   "cell_type": "markdown",
   "metadata": {
    "jp-MarkdownHeadingCollapsed": true,
    "slideshow": {
     "slide_type": "subslide"
    },
    "tags": []
   },
   "source": [
    "### The python standard library and inheritance\n",
    "The python standard library includes many modules that define base classes from which you derive new classes:\n",
    "* thread (for multithreaded parallel programming)\n",
    "* xml.sax (for parsing XML documents)\n",
    "* html.parser (for parsing HTML documents)\n",
    "* httpserver (for writing your own web server)\n",
    "* unittest (for implementing testing frameworks)"
   ]
  },
  {
   "cell_type": "markdown",
   "metadata": {
    "slideshow": {
     "slide_type": "subslide"
    },
    "tags": []
   },
   "source": [
    "### User-defined exceptions\n",
    "Python defines [lots of exceptions](https://docs.python.org/3/library/exceptions.html), but you can create your own custom exceptions too:"
   ]
  },
  {
   "cell_type": "code",
   "execution_count": 40,
   "metadata": {},
   "outputs": [
    {
     "ename": "MyException",
     "evalue": "Something bad happened. Here's some information to help you sort it out.",
     "output_type": "error",
     "traceback": [
      "\u001b[0;31m---------------------------------------------------------------------------\u001b[0m",
      "\u001b[0;31mMyException\u001b[0m                               Traceback (most recent call last)",
      "Cell \u001b[0;32mIn[40], line 4\u001b[0m\n\u001b[1;32m      1\u001b[0m \u001b[38;5;28;01mclass\u001b[39;00m \u001b[38;5;21;01mMyException\u001b[39;00m(\u001b[38;5;167;01mException\u001b[39;00m):\n\u001b[1;32m      2\u001b[0m     \u001b[38;5;28;01mpass\u001b[39;00m\n\u001b[0;32m----> 4\u001b[0m \u001b[38;5;28;01mraise\u001b[39;00m MyException(\u001b[38;5;124m\"\u001b[39m\u001b[38;5;124mSomething bad happened. Here\u001b[39m\u001b[38;5;124m'\u001b[39m\u001b[38;5;124ms some information to help you sort it out.\u001b[39m\u001b[38;5;124m\"\u001b[39m)\n",
      "\u001b[0;31mMyException\u001b[0m: Something bad happened. Here's some information to help you sort it out."
     ]
    }
   ],
   "source": [
    "class MyException(Exception):\n",
    "    pass\n",
    "\n",
    "raise MyException(\"Something bad happened. Here's some information to help you sort it out.\")"
   ]
  },
  {
   "cell_type": "markdown",
   "metadata": {},
   "source": [
    "The \"pass\" statement is used when you want a block of code that does nothing at all. Here, we are creating a new class named \"MyException\" which is derived from the python class \"Exception\"."
   ]
  },
  {
   "cell_type": "markdown",
   "metadata": {
    "slideshow": {
     "slide_type": "subslide"
    },
    "tags": []
   },
   "source": [
    "## Exercise: classes and inheritance\n",
    "1. In the cell below, create a class named Dog that represents dogs. The constructor (\\_\\_init\\_\\_) should take one argument in addition to self: the dog's name. The class should implement one additional method, which is \"speak()\". The speak() method should **return** some dog-appropriate sound, for example \"Arf!\".\n",
    "2. Create a list of several instances of the Dog class, and iterate through the list printing each dog's name and the sound they return when you call the speak() method.\n",
    "3. Derive a Poodle class from the Dog class such that instances of the Poodle class return a more poodle-appropriate sound, e.g. \"Yip!\", when you call the speak() method.\n",
    "4. Add some instances of the Poodle class to your list of dogs, so list contains some Dog instances and some Poodle instances, and then re-run the code that iterates through the list."
   ]
  },
  {
   "cell_type": "code",
   "execution_count": 48,
   "metadata": {},
   "outputs": [
    {
     "name": "stdout",
     "output_type": "stream",
     "text": [
      "Willie says Arooo\n",
      "Angus says Buff\n",
      "Bowie says Ruff\n"
     ]
    }
   ],
   "source": [
    "class Dog:\n",
    "    def __init__(self,dog_name,speak):\n",
    "        self.dname = dog_name\n",
    "        self.speak = speak\n",
    "\n",
    "    def __str__(self):\n",
    "        \"Returns the string representation of the object\"\n",
    "        return f\"{self.dname} says {self.speak}\" #better when printed out\n",
    "\n",
    "dogs = [ Dog(\"Willie\",\"Arooo\"), Dog(\"Angus\",\"Buff\"), Dog(\"Bowie\",\"Ruff\") ]\n",
    "for doggo in dogs:\n",
    "    print(f\"{doggo}\")"
   ]
  },
  {
   "cell_type": "markdown",
   "metadata": {
    "jupyter": {
     "source_hidden": true
    }
   },
   "source": [
    "# What haven't we discussed?\n",
    "* Creating iterators and generators - see \"more_on_iterators.ipynb\"\n",
    "* Decorators ( touched on here: https://github.com/bmilash/dataclasses-and-yaml )\n",
    "* Type checking in python ( [good article here](https://realpython.com/python-type-checking) )\n",
    "* IDEs (integrated development environments)\n",
    "* Debugging\n",
    "* Benchmarking\n",
    "* Unit testing\n",
    "* Defining functions using *args and **kwargs\n",
    "* Parallel programming"
   ]
  },
  {
   "cell_type": "markdown",
   "metadata": {
    "slideshow": {
     "slide_type": "slide"
    },
    "tags": []
   },
   "source": [
    "# Programming advice\n",
    "* Don't rely on the operating system's python. Its old, and you don't control it.\n",
    "    * At CHPC load a python module, e.g. \"module load python/3.11.3\".\n",
    "    * [Or install your own](https://www.chpc.utah.edu/documentation/software/python-anaconda.php) with micromamba or miniforge.\n",
    "* Use python 3. Python 2 support ended 1/1/2020. https://python-release-cycle.glitch.me/\n",
    "* When editing, save early and save often.\n",
    "* Back your code up with [git](https://www.chpc.utah.edu/documentation/software/git-scm.php) locally, and ideally into a remote software repository.\n",
    "* Write test code, use [assert()](https://docs.python.org/3.6/reference/simple_stmts.html?highlight=assert#the-assert-statement \"Python Docs\"), and learn to use [coverage.py](https://coverage.readthedocs.io/).\n",
    "* Learn to use a debugger ([pdb](https://docs.python.org/3/library/pdb.html), [PyCharm](https://www.jetbrains.com/pycharm/), [IDLE](https://docs.python.org/3.10/library/idle.html), [Jupyter Lab](https://jupyterlab.readthedocs.io/en/stable/user/debugger.html), [VSCode](https://www.chpc.utah.edu/documentation/software/vscode.php)) - much quicker than print() statements!"
   ]
  },
  {
   "cell_type": "markdown",
   "metadata": {
    "slideshow": {
     "slide_type": "slide"
    },
    "tags": []
   },
   "source": [
    "# Resources:\n",
    "* Python Tutorial: https://docs.python.org/3/tutorial/index.html\n",
    "* Python Standard Library: https://docs.python.org/3/library/index.html\n",
    "* Real Python: https://realpython.com\n",
    "* PyCon: excellent meeting! \n",
    "  - https://us.pycon.org\n",
    "  - Youtube channel: https://www.youtube.com/@PyConUS\n",
    "\n",
    "## Questions?\n",
    "* brett.milash@utah.edu\n",
    "* wim.cardoen@utah.edu\n",
    "* robben.migacz@utah.edu\n",
    "* helpdesk@chpc.utah.edu\n",
    "\n",
    "## Have fun coding, and thank you for coming!"
   ]
  },
  {
   "cell_type": "code",
   "execution_count": null,
   "metadata": {},
   "outputs": [],
   "source": []
  }
 ],
 "metadata": {
  "kernelspec": {
   "display_name": "Python 3 (ipykernel)",
   "language": "python",
   "name": "python3"
  },
  "language_info": {
   "codemirror_mode": {
    "name": "ipython",
    "version": 3
   },
   "file_extension": ".py",
   "mimetype": "text/x-python",
   "name": "python",
   "nbconvert_exporter": "python",
   "pygments_lexer": "ipython3",
   "version": "3.10.14"
  },
  "toc-autonumbering": false,
  "toc-showmarkdowntxt": false,
  "toc-showtags": false
 },
 "nbformat": 4,
 "nbformat_minor": 4
}
